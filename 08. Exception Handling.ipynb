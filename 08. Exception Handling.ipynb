{
 "cells": [
  {
   "cell_type": "markdown",
   "id": "7193a8b8",
   "metadata": {},
   "source": [
    "# Exception Handling"
   ]
  },
  {
   "cell_type": "markdown",
   "id": "0769d0c4",
   "metadata": {},
   "source": [
    "### Errors"
   ]
  },
  {
   "cell_type": "raw",
   "id": "11e004a1",
   "metadata": {},
   "source": [
    "There are two types of errors. \n",
    "\n",
    "Compiling error: There is a syntax error. the program will not start.\n",
    "\n",
    "Run-time error: Syntax is fine. The program starts, but will stop at a line which is not executable. E.g. 10/0 is not executable. an undefined variable is not executable. We use exception handling for this case."
   ]
  },
  {
   "cell_type": "code",
   "execution_count": 4,
   "id": "dcd31dbe",
   "metadata": {},
   "outputs": [
    {
     "name": "stdout",
     "output_type": "stream",
     "text": [
      "Start\n",
      "2.0\n",
      "End\n"
     ]
    }
   ],
   "source": [
    "print(\"Start\")\n",
    "x = 10\n",
    "y = 5 #if we put value of 0, there willbe an error on line 6. it will go in exception.\n",
    "try:\n",
    "    if y < 10:\n",
    "        z = x/y\n",
    "    else:\n",
    "        z = x+y\n",
    "    print(z)\n",
    "except: \n",
    "    print(\"We used exception\")\n",
    "print(\"End\")"
   ]
  },
  {
   "cell_type": "code",
   "execution_count": 5,
   "id": "47f27881",
   "metadata": {},
   "outputs": [
    {
     "name": "stdout",
     "output_type": "stream",
     "text": [
      "Start\n",
      "2.0\n",
      "Else is used\n",
      "End\n"
     ]
    }
   ],
   "source": [
    "print(\"Start\")\n",
    "x = 10\n",
    "y = 5       #if we put value of 0, there willbe an error on line 6. it will go in exception.\n",
    "try:\n",
    "    if y < 10:\n",
    "        z = x/y\n",
    "    else:\n",
    "        z = x+y\n",
    "    print(z)\n",
    "except: \n",
    "    print(\"We used exception\")\n",
    "else:\n",
    "    print(\"Else is used\") #if exception is not used, means the code ran smoothly, we use else.\n",
    "print(\"End\")"
   ]
  },
  {
   "cell_type": "code",
   "execution_count": 28,
   "id": "59ebbb73",
   "metadata": {
    "scrolled": false
   },
   "outputs": [
    {
     "name": "stdout",
     "output_type": "stream",
     "text": [
      "Start\n",
      "ZeroDivisionError in = division by zero\n",
      "Finally\n",
      "End\n"
     ]
    }
   ],
   "source": [
    "print(\"Start\")\n",
    "x = 10\n",
    "y = 0  #if we put value of 0, there willbe an error on line 6. it will go in exception.\n",
    "try:\n",
    "    if y < 10:\n",
    "        z = x/y\n",
    "    else:\n",
    "        z = x + y + a\n",
    "    print(z)\n",
    "    \n",
    "except ZeroDivisionError as e: \n",
    "    print(\"ZeroDivisionError in =\", e)\n",
    "    \n",
    "except NameError as e: \n",
    "    print(\"in NameError = \", e)\n",
    "    \n",
    "except Exception as e: \n",
    "    print(\"in Exception = \", e)\n",
    "    \n",
    "else:\n",
    "    print(\"Else\") #if exception is not used, means the code ran smoothly, we use else.\n",
    "finally: \n",
    "    print(\"Finally\")\n",
    "print(\"End\")\n"
   ]
  },
  {
   "cell_type": "markdown",
   "id": "e934d34d",
   "metadata": {},
   "source": [
    "### Search Python Exceptions in Google"
   ]
  }
 ],
 "metadata": {
  "kernelspec": {
   "display_name": "Python 3 (ipykernel)",
   "language": "python",
   "name": "python3"
  },
  "language_info": {
   "codemirror_mode": {
    "name": "ipython",
    "version": 3
   },
   "file_extension": ".py",
   "mimetype": "text/x-python",
   "name": "python",
   "nbconvert_exporter": "python",
   "pygments_lexer": "ipython3",
   "version": "3.11.4"
  }
 },
 "nbformat": 4,
 "nbformat_minor": 5
}
