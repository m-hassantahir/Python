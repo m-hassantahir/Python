{
 "cells": [
  {
   "cell_type": "code",
   "execution_count": 1,
   "id": "6714a272",
   "metadata": {},
   "outputs": [
    {
     "name": "stdout",
     "output_type": "stream",
     "text": [
      "     0    1    2\n",
      "0   10   20   30\n",
      "1  100  200  300\n",
      "2  101  201  301\n"
     ]
    }
   ],
   "source": [
    "import pandas as pd\n",
    "my_file = pd.DataFrame( [[10,20,30],[100,200,300],[101,201,301]])\n",
    "print(my_file)"
   ]
  },
  {
   "cell_type": "code",
   "execution_count": 3,
   "id": "a8f7b27b",
   "metadata": {},
   "outputs": [
    {
     "name": "stdout",
     "output_type": "stream",
     "text": [
      "      Col1  Col2  Col3\n",
      "Row1    10    20    30\n",
      "Row2   100   200   300\n",
      "Row3   101   201   301\n"
     ]
    }
   ],
   "source": [
    "#now define column names and row names\n",
    "my_file = pd.DataFrame([[10,20,30],[100,200,300],[101,201,301]],['Row1','Row2','Row3'],['Col1','Col2','Col3'])\n",
    "print(my_file)"
   ]
  },
  {
   "cell_type": "code",
   "execution_count": 6,
   "id": "4ebafcf5",
   "metadata": {},
   "outputs": [
    {
     "name": "stdout",
     "output_type": "stream",
     "text": [
      "        person1  person2 person3\n",
      "name      Qadir  Mahmood   Fazil\n",
      "Salary    12000    11000   14000\n",
      "Profile     SD1      SD2     SD3\n"
     ]
    }
   ],
   "source": [
    "#create DataFrame from Dictionaries\n",
    "d = {\n",
    "    \"person1\" :{\"name\":\"Qadir\",\"Salary\":12000,\"Profile\":\"SD1\"},\n",
    "    \"person2\": {\"name\":\"Mahmood\",\"Salary\":11000,\"Profile\":\"SD2\"},\n",
    "    \"person3\": {\"name\":\"Fazil\",\"Salary\":14000,\"Profile\":\"SD3\"}\n",
    "    \n",
    "}\n",
    "d_file = pd.DataFrame(d)\n",
    "print(d_file)"
   ]
  },
  {
   "cell_type": "code",
   "execution_count": 9,
   "id": "2ed71000",
   "metadata": {
    "scrolled": true
   },
   "outputs": [
    {
     "name": "stdout",
     "output_type": "stream",
     "text": [
      "       Col1  Col2  Col3  Col4  Col5\n",
      "Row1      1     2     3     4     5\n",
      "Row2      6     7     8     9    10\n",
      "Row3     11    12    13    14    15\n",
      "Row4     16    17    18    19    20\n",
      "Row5     21    22    23    24    25\n",
      "Row6     26    27    28    29    30\n",
      "Row7     31    32    33    34    35\n",
      "Row8     36    37    38    39    40\n",
      "Row9     41    42    43    44    45\n",
      "Row10    46    47    48    49    50\n"
     ]
    }
   ],
   "source": [
    "#create DataFrame using numpy\n",
    "import numpy as nd\n",
    "dnum=pd.DataFrame(nd.arange(1,51).reshape(10,5),['Row1','Row2','Row3','Row4','Row5','Row6','Row7','Row8','Row9','Row10'],['Col1','Col2','Col3','Col4','Col5'])\n",
    "print(dnum)"
   ]
  },
  {
   "cell_type": "code",
   "execution_count": 10,
   "id": "4beb8c8a",
   "metadata": {},
   "outputs": [
    {
     "name": "stdout",
     "output_type": "stream",
     "text": [
      "<class 'pandas.core.frame.DataFrame'>\n",
      "Index: 10 entries, Row1 to Row10\n",
      "Data columns (total 5 columns):\n",
      " #   Column  Non-Null Count  Dtype\n",
      "---  ------  --------------  -----\n",
      " 0   Col1    10 non-null     int32\n",
      " 1   Col2    10 non-null     int32\n",
      " 2   Col3    10 non-null     int32\n",
      " 3   Col4    10 non-null     int32\n",
      " 4   Col5    10 non-null     int32\n",
      "dtypes: int32(5)\n",
      "memory usage: 280.0+ bytes\n",
      "None\n",
      "      Col1  Col2  Col3  Col4  Col5\n",
      "Row1     1     2     3     4     5\n",
      "Row2     6     7     8     9    10\n",
      "Row3    11    12    13    14    15\n",
      "Row4    16    17    18    19    20\n",
      "Row5    21    22    23    24    25\n",
      "<bound method NDFrame.describe of        Col1  Col2  Col3  Col4  Col5\n",
      "Row1      1     2     3     4     5\n",
      "Row2      6     7     8     9    10\n",
      "Row3     11    12    13    14    15\n",
      "Row4     16    17    18    19    20\n",
      "Row5     21    22    23    24    25\n",
      "Row6     26    27    28    29    30\n",
      "Row7     31    32    33    34    35\n",
      "Row8     36    37    38    39    40\n",
      "Row9     41    42    43    44    45\n",
      "Row10    46    47    48    49    50>\n"
     ]
    }
   ],
   "source": [
    "print(dnum.info())\n",
    "print(dnum.head())\n",
    "print(dnum.describe)\n"
   ]
  },
  {
   "cell_type": "code",
   "execution_count": 11,
   "id": "46b14263",
   "metadata": {},
   "outputs": [
    {
     "name": "stdout",
     "output_type": "stream",
     "text": [
      "       Col2  Col3\n",
      "Row1      2     3\n",
      "Row2      7     8\n",
      "Row3     12    13\n",
      "Row4     17    18\n",
      "Row5     22    23\n",
      "Row6     27    28\n",
      "Row7     32    33\n",
      "Row8     37    38\n",
      "Row9     42    43\n",
      "Row10    47    48\n"
     ]
    }
   ],
   "source": [
    "print(dnum[['Col2','Col3']])"
   ]
  },
  {
   "cell_type": "code",
   "execution_count": 13,
   "id": "391e5f09",
   "metadata": {},
   "outputs": [
    {
     "name": "stdout",
     "output_type": "stream",
     "text": [
      "Col1    1\n",
      "Col2    2\n",
      "Col3    3\n",
      "Col4    4\n",
      "Col5    5\n",
      "Name: Row1, dtype: int32\n"
     ]
    }
   ],
   "source": [
    "print(dnum.loc['Row1'])"
   ]
  },
  {
   "cell_type": "code",
   "execution_count": 14,
   "id": "0628ff96",
   "metadata": {},
   "outputs": [],
   "source": [
    "dnum.to_csv('numbers.csv')"
   ]
  },
  {
   "cell_type": "code",
   "execution_count": 15,
   "id": "005a9c08",
   "metadata": {},
   "outputs": [],
   "source": [
    "df = pd.read_csv('PGC.csv')"
   ]
  },
  {
   "cell_type": "code",
   "execution_count": 16,
   "id": "55fbafee",
   "metadata": {},
   "outputs": [
    {
     "data": {
      "text/html": [
       "<div>\n",
       "<style scoped>\n",
       "    .dataframe tbody tr th:only-of-type {\n",
       "        vertical-align: middle;\n",
       "    }\n",
       "\n",
       "    .dataframe tbody tr th {\n",
       "        vertical-align: top;\n",
       "    }\n",
       "\n",
       "    .dataframe thead th {\n",
       "        text-align: right;\n",
       "    }\n",
       "</style>\n",
       "<table border=\"1\" class=\"dataframe\">\n",
       "  <thead>\n",
       "    <tr style=\"text-align: right;\">\n",
       "      <th></th>\n",
       "      <th>Rate</th>\n",
       "      <th>Remarks</th>\n",
       "    </tr>\n",
       "  </thead>\n",
       "  <tbody>\n",
       "    <tr>\n",
       "      <th>count</th>\n",
       "      <td>124.0</td>\n",
       "      <td>0.0</td>\n",
       "    </tr>\n",
       "    <tr>\n",
       "      <th>mean</th>\n",
       "      <td>10.0</td>\n",
       "      <td>NaN</td>\n",
       "    </tr>\n",
       "    <tr>\n",
       "      <th>std</th>\n",
       "      <td>0.0</td>\n",
       "      <td>NaN</td>\n",
       "    </tr>\n",
       "    <tr>\n",
       "      <th>min</th>\n",
       "      <td>10.0</td>\n",
       "      <td>NaN</td>\n",
       "    </tr>\n",
       "    <tr>\n",
       "      <th>25%</th>\n",
       "      <td>10.0</td>\n",
       "      <td>NaN</td>\n",
       "    </tr>\n",
       "    <tr>\n",
       "      <th>50%</th>\n",
       "      <td>10.0</td>\n",
       "      <td>NaN</td>\n",
       "    </tr>\n",
       "    <tr>\n",
       "      <th>75%</th>\n",
       "      <td>10.0</td>\n",
       "      <td>NaN</td>\n",
       "    </tr>\n",
       "    <tr>\n",
       "      <th>max</th>\n",
       "      <td>10.0</td>\n",
       "      <td>NaN</td>\n",
       "    </tr>\n",
       "  </tbody>\n",
       "</table>\n",
       "</div>"
      ],
      "text/plain": [
       "        Rate   Remarks\n",
       "count   124.0      0.0\n",
       "mean     10.0      NaN\n",
       "std       0.0      NaN\n",
       "min      10.0      NaN\n",
       "25%      10.0      NaN\n",
       "50%      10.0      NaN\n",
       "75%      10.0      NaN\n",
       "max      10.0      NaN"
      ]
     },
     "execution_count": 16,
     "metadata": {},
     "output_type": "execute_result"
    }
   ],
   "source": [
    "df.describe()"
   ]
  },
  {
   "cell_type": "code",
   "execution_count": 18,
   "id": "f4319ec2",
   "metadata": {},
   "outputs": [
    {
     "name": "stdout",
     "output_type": "stream",
     "text": [
      "<class 'pandas.core.frame.DataFrame'>\n",
      "RangeIndex: 124 entries, 0 to 123\n",
      "Data columns (total 11 columns):\n",
      " #   Column             Non-Null Count  Dtype  \n",
      "---  ------             --------------  -----  \n",
      " 0   Date               124 non-null    object \n",
      " 1   ItemID             124 non-null    object \n",
      " 2   Category           124 non-null    object \n",
      " 3   Items Description  124 non-null    object \n",
      " 4   Unit               124 non-null    object \n",
      " 5    Qty               124 non-null    object \n",
      " 6    Rate              124 non-null    int64  \n",
      " 7    Amount            124 non-null    object \n",
      " 8   Issued For         124 non-null    object \n",
      " 9   Remarks            0 non-null      float64\n",
      " 10  Seq Code           124 non-null    object \n",
      "dtypes: float64(1), int64(1), object(9)\n",
      "memory usage: 10.8+ KB\n"
     ]
    }
   ],
   "source": [
    "df.info()"
   ]
  },
  {
   "cell_type": "code",
   "execution_count": null,
   "id": "aa8f644d",
   "metadata": {},
   "outputs": [],
   "source": []
  }
 ],
 "metadata": {
  "kernelspec": {
   "display_name": "Python 3 (ipykernel)",
   "language": "python",
   "name": "python3"
  },
  "language_info": {
   "codemirror_mode": {
    "name": "ipython",
    "version": 3
   },
   "file_extension": ".py",
   "mimetype": "text/x-python",
   "name": "python",
   "nbconvert_exporter": "python",
   "pygments_lexer": "ipython3",
   "version": "3.11.4"
  }
 },
 "nbformat": 4,
 "nbformat_minor": 5
}
