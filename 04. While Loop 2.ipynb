{
 "cells": [
  {
   "cell_type": "markdown",
   "id": "27c37abd",
   "metadata": {},
   "source": [
    "Create a program using while loop, in which you sum all input values given by the user, as long as the value is 'N'."
   ]
  },
  {
   "cell_type": "code",
   "execution_count": 4,
   "id": "9afdea6a",
   "metadata": {},
   "outputs": [
    {
     "name": "stdout",
     "output_type": "stream",
     "text": [
      "Enter Number = 10\n",
      "Enter Number = 20\n",
      "Enter Number = N\n",
      "30\n"
     ]
    }
   ],
   "source": [
    "x = ''                   #starting value\n",
    "y = 'N'                  #ending value\n",
    "sum = 0                 #sum of value after addition of each value.\n",
    "while x != 'N':           #run this loop as long as starting value is < ending value\n",
    "    x = input(\"Enter Number = \")\n",
    "    if x != 'N':\n",
    "        sum = sum + int(x)       #Add x in sum value, as long as the condition is met.\n",
    "\n",
    "print(sum)"
   ]
  },
  {
   "cell_type": "raw",
   "id": "50186343",
   "metadata": {},
   "source": [
    "write the following form. \n",
    "\n",
    "1 2 3 4 5\n",
    "1 2 3 4 5\n",
    "1 2 3 4 5\n",
    "1 2 3 4 5\n",
    "1 2 3 4 5"
   ]
  },
  {
   "cell_type": "code",
   "execution_count": 1,
   "id": "c4278b0b",
   "metadata": {},
   "outputs": [
    {
     "name": "stdout",
     "output_type": "stream",
     "text": [
      "1 2 3 4 5 \n",
      "1 2 3 4 5 \n",
      "1 2 3 4 5 \n",
      "1 2 3 4 5 \n",
      "1 2 3 4 5 \n"
     ]
    }
   ],
   "source": [
    "i = 1\n",
    "while i <= 5:\n",
    "    j = 1\n",
    "    while j <= 5:\n",
    "        print(j, end =' ')\n",
    "        j = j+1\n",
    "    print()\n",
    "    i+=1"
   ]
  },
  {
   "cell_type": "raw",
   "id": "bb5333dc",
   "metadata": {},
   "source": [
    "write the following form. \n",
    "\n",
    "1 \n",
    "1 2 \n",
    "1 2 3\n",
    "1 2 3 4\n",
    "1 2 3 4 5"
   ]
  },
  {
   "cell_type": "code",
   "execution_count": 8,
   "id": "cbb57816",
   "metadata": {},
   "outputs": [
    {
     "name": "stdout",
     "output_type": "stream",
     "text": [
      "1 \n",
      "1 2 \n",
      "1 2 3 \n",
      "1 2 3 4 \n",
      "1 2 3 4 5 \n"
     ]
    }
   ],
   "source": [
    "i = 1                           #i shows # of rows\n",
    "while i <= 5:                   #run this loop as long as i <= 5\n",
    "    j = 1                       #j shows # of columns\n",
    "    while j <= i:               #run this loop as long as columns are less than/equal to loops.\n",
    "        print(j, end =' ')      #print columns, end it with space instead of enter\n",
    "        j = j+1                 #after every column, add 1 in the number\n",
    "    print()                     #put enter\n",
    "    i+=1                        #after every row, add 1 in the number"
   ]
  },
  {
   "cell_type": "markdown",
   "id": "13d380e5",
   "metadata": {},
   "source": [
    "# For Loops"
   ]
  },
  {
   "cell_type": "markdown",
   "id": "5e8a958c",
   "metadata": {},
   "source": [
    "Create a program, in which \"Python Programming\" is written with spaces in between. Do it with while loop."
   ]
  },
  {
   "cell_type": "code",
   "execution_count": 10,
   "id": "7e9c62b0",
   "metadata": {
    "scrolled": true
   },
   "outputs": [
    {
     "name": "stdout",
     "output_type": "stream",
     "text": [
      "P y t h o n   P r o g r a m m i n g "
     ]
    }
   ],
   "source": [
    "s1 = \"Python Programming\"\n",
    "for x in s1:\n",
    "    print(x, end = ' ')"
   ]
  },
  {
   "cell_type": "markdown",
   "id": "2396e44e",
   "metadata": {},
   "source": [
    "Create a program, in which \"Python Programming\" is written with spaces in between and vowels are not included. Do it with for loop."
   ]
  },
  {
   "cell_type": "code",
   "execution_count": 12,
   "id": "6d27d981",
   "metadata": {},
   "outputs": [
    {
     "name": "stdout",
     "output_type": "stream",
     "text": [
      "P y t h n   P r g r m m n g "
     ]
    }
   ],
   "source": [
    "s1 = \"Python Programming\"\n",
    "for x in s1:\n",
    "    if x not in 'aeiou':\n",
    "        print(x, end = ' ')"
   ]
  },
  {
   "cell_type": "markdown",
   "id": "3c91c142",
   "metadata": {},
   "source": [
    "Create a program in which you write numbers between 1-10."
   ]
  },
  {
   "cell_type": "code",
   "execution_count": 19,
   "id": "9c8f091d",
   "metadata": {},
   "outputs": [
    {
     "name": "stdout",
     "output_type": "stream",
     "text": [
      "1 3 5 7 9 "
     ]
    }
   ],
   "source": [
    "x = 1\n",
    "y = 10\n",
    "interval = 2\n",
    "for i in range(x, y+1, interval):\n",
    "    print(i, end = ' ')"
   ]
  },
  {
   "cell_type": "markdown",
   "id": "62a98c6c",
   "metadata": {},
   "source": [
    "Create a program, in which \"Python Programming\" is written with spaces in between. Do it with for loop. If the condition is not met, type End."
   ]
  },
  {
   "cell_type": "code",
   "execution_count": 22,
   "id": "a500d7a3",
   "metadata": {},
   "outputs": [
    {
     "name": "stdout",
     "output_type": "stream",
     "text": [
      "P y t h o n   P r o g r a m m i n g \n",
      "End\n"
     ]
    }
   ],
   "source": [
    "s1 = \"Python Programming\"\n",
    "#d is not defined as variable yet.\n",
    "for d in s1:\n",
    "    print(d, end = \" \")\n",
    "else:\n",
    "    print()\n",
    "    print(\"End\")"
   ]
  },
  {
   "cell_type": "markdown",
   "id": "30b78315",
   "metadata": {},
   "source": [
    "## Adding a List in Loop (by Mosh)"
   ]
  },
  {
   "cell_type": "code",
   "execution_count": 1,
   "id": "3be4caeb",
   "metadata": {
    "scrolled": true
   },
   "outputs": [
    {
     "name": "stdout",
     "output_type": "stream",
     "text": [
      "Mosh\n",
      "John\n",
      "Sarah\n"
     ]
    }
   ],
   "source": [
    "#adding a list in for loop\n",
    "\n",
    "for item in ['Mosh', 'John', 'Sarah']:\n",
    "    print(item)"
   ]
  },
  {
   "cell_type": "code",
   "execution_count": 3,
   "id": "5eb05db7",
   "metadata": {},
   "outputs": [
    {
     "name": "stdout",
     "output_type": "stream",
     "text": [
      "5\n",
      "6\n",
      "7\n",
      "8\n",
      "9\n"
     ]
    }
   ],
   "source": [
    "for item in range(5,10): #start from 5 and end at 9\n",
    "    print(item)"
   ]
  },
  {
   "cell_type": "code",
   "execution_count": 4,
   "id": "9368800b",
   "metadata": {},
   "outputs": [
    {
     "name": "stdout",
     "output_type": "stream",
     "text": [
      "Total: 60\n"
     ]
    }
   ],
   "source": [
    "prices = [10,20,30]\n",
    "\n",
    "total = 0\n",
    "for price in prices:\n",
    "    total += price\n",
    "print(f'Total: {total}')\n",
    "    "
   ]
  },
  {
   "cell_type": "code",
   "execution_count": 7,
   "id": "30214c2b",
   "metadata": {
    "scrolled": true
   },
   "outputs": [
    {
     "name": "stdout",
     "output_type": "stream",
     "text": [
      "(0,0)\n",
      "(0,1)\n",
      "(0,2)\n",
      "(1,0)\n",
      "(1,1)\n",
      "(1,2)\n",
      "(2,0)\n",
      "(2,1)\n",
      "(2,2)\n",
      "(3,0)\n",
      "(3,1)\n",
      "(3,2)\n"
     ]
    }
   ],
   "source": [
    "#nested loop\n",
    "\n",
    "for x in range(4):\n",
    "    for y in range(3):\n",
    "        print(f'({x},{y})')\n",
    "    "
   ]
  },
  {
   "cell_type": "code",
   "execution_count": 8,
   "id": "ed0403e1",
   "metadata": {
    "scrolled": true
   },
   "outputs": [
    {
     "name": "stdout",
     "output_type": "stream",
     "text": [
      "xxxxx\n",
      "xx\n",
      "xxxxx\n",
      "xx\n",
      "xx\n"
     ]
    }
   ],
   "source": [
    "numbers = [5,2,5,2,2]\n",
    "for x_count in numbers:\n",
    "    print('x' *x_count)"
   ]
  },
  {
   "cell_type": "code",
   "execution_count": 10,
   "id": "13af9eb3",
   "metadata": {},
   "outputs": [
    {
     "name": "stdout",
     "output_type": "stream",
     "text": [
      "xxxxx\n",
      "xx\n",
      "xxxxx\n",
      "xx\n",
      "xx\n"
     ]
    }
   ],
   "source": [
    "numbers = [5,2,5,2,2]\n",
    "for x_count in numbers:\n",
    "    output = ''\n",
    "    for count in range(x_count):\n",
    "        output += 'x'\n",
    "    print(output)"
   ]
  },
  {
   "cell_type": "code",
   "execution_count": 11,
   "id": "4ccffdf4",
   "metadata": {},
   "outputs": [
    {
     "name": "stdout",
     "output_type": "stream",
     "text": [
      "xx\n",
      "xx\n",
      "xx\n",
      "xx\n",
      "xxxxx\n",
      "xxxxx\n"
     ]
    }
   ],
   "source": [
    "numbers = [2,2,2,2,5,5]\n",
    "for x_count in numbers:\n",
    "    output = ''\n",
    "    for count in range(x_count):\n",
    "        output += 'x'\n",
    "    print(output)"
   ]
  },
  {
   "cell_type": "markdown",
   "id": "25784d77",
   "metadata": {},
   "source": [
    "## Azad Chaiwala Continues"
   ]
  },
  {
   "cell_type": "raw",
   "id": "bd7df6be",
   "metadata": {},
   "source": [
    "write the following form using for loop. \n",
    "\n",
    "1 \n",
    "1 2 \n",
    "1 2 3\n",
    "1 2 3 4\n",
    "1 2 3 4 5"
   ]
  },
  {
   "cell_type": "code",
   "execution_count": 28,
   "id": "1c634a3f",
   "metadata": {},
   "outputs": [
    {
     "name": "stdout",
     "output_type": "stream",
     "text": [
      "1 \n",
      "1 2 \n",
      "1 2 3 \n",
      "1 2 3 4 \n",
      "1 2 3 4 5 \n"
     ]
    }
   ],
   "source": [
    "for i in range(1, 6):         #i = rows, loop will continue till condition is met.\n",
    "    for j in range(1, i+1):   #j = columns, loop will continue till column exceed rows\n",
    "        print(j, end = ' ')   #print column, end with space\n",
    "    print()                   #insert enter"
   ]
  },
  {
   "cell_type": "markdown",
   "id": "a708c7d3",
   "metadata": {},
   "source": [
    "if i = 5, in the previous example, how will 'j' perform.  "
   ]
  },
  {
   "cell_type": "code",
   "execution_count": 32,
   "id": "e2cca9af",
   "metadata": {},
   "outputs": [
    {
     "name": "stdout",
     "output_type": "stream",
     "text": [
      "1 2 3 4 5 "
     ]
    }
   ],
   "source": [
    "i = 5\n",
    "for j in range(1,i+1):\n",
    "    print(j, end=' ')"
   ]
  },
  {
   "cell_type": "markdown",
   "id": "011ffad3",
   "metadata": {},
   "source": [
    "# Continue"
   ]
  },
  {
   "cell_type": "markdown",
   "id": "77ba91a4",
   "metadata": {},
   "source": [
    "Write 1-5. but skip 3."
   ]
  },
  {
   "cell_type": "code",
   "execution_count": 40,
   "id": "7200f3a7",
   "metadata": {
    "scrolled": true
   },
   "outputs": [
    {
     "name": "stdout",
     "output_type": "stream",
     "text": [
      "1245"
     ]
    }
   ],
   "source": [
    "i = 1\n",
    "while i <= 5:\n",
    "    if i == 3:\n",
    "        i+=1\n",
    "        continue\n",
    "    print(i, end=\"\")\n",
    "    i+=1"
   ]
  },
  {
   "cell_type": "code",
   "execution_count": 42,
   "id": "892e7e4f",
   "metadata": {},
   "outputs": [
    {
     "name": "stdout",
     "output_type": "stream",
     "text": [
      "H l l   W r l d "
     ]
    }
   ],
   "source": [
    "s1 = \"Hello World\"\n",
    "for x in s1:\n",
    "    if x in 'aeiou':\n",
    "        continue\n",
    "    print(x, end = \" \")"
   ]
  },
  {
   "cell_type": "markdown",
   "id": "ccd8621f",
   "metadata": {},
   "source": [
    "# Break"
   ]
  },
  {
   "cell_type": "code",
   "execution_count": 50,
   "id": "b61622df",
   "metadata": {},
   "outputs": [
    {
     "name": "stdout",
     "output_type": "stream",
     "text": [
      "Hello"
     ]
    }
   ],
   "source": [
    "s1 = \"Hello World\"\n",
    "for x in s1:\n",
    "    if x in ' ':\n",
    "        break\n",
    "    print(x,end=\"\")\n",
    "else:\n",
    "    print(\"Else\")"
   ]
  },
  {
   "cell_type": "code",
   "execution_count": 47,
   "id": "2bcf6a47",
   "metadata": {},
   "outputs": [
    {
     "name": "stdout",
     "output_type": "stream",
     "text": [
      "Enter Number = 10\n",
      "Enter Number = 20\n",
      "Enter Number = N\n",
      "30\n"
     ]
    }
   ],
   "source": [
    "x = ''                   #starting value\n",
    "y = 'N'                  #ending value\n",
    "sum = 0                 #sum of value after addition of each value.\n",
    "while True:           #run this loop as long as starting value is < ending value\n",
    "    x = input(\"Enter Number = \")\n",
    "    if x == 'N':\n",
    "        break   \n",
    "    sum = sum + int(x)       #Add x in sum value, as long as the condition is met.\n",
    "\n",
    "print(sum)"
   ]
  },
  {
   "cell_type": "code",
   "execution_count": null,
   "id": "08568c6b",
   "metadata": {},
   "outputs": [],
   "source": []
  }
 ],
 "metadata": {
  "kernelspec": {
   "display_name": "Python 3 (ipykernel)",
   "language": "python",
   "name": "python3"
  },
  "language_info": {
   "codemirror_mode": {
    "name": "ipython",
    "version": 3
   },
   "file_extension": ".py",
   "mimetype": "text/x-python",
   "name": "python",
   "nbconvert_exporter": "python",
   "pygments_lexer": "ipython3",
   "version": "3.11.4"
  }
 },
 "nbformat": 4,
 "nbformat_minor": 5
}
