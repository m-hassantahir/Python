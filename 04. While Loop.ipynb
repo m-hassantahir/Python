{
 "cells": [
  {
   "cell_type": "markdown",
   "id": "78a9e023",
   "metadata": {},
   "source": [
    "# Starting with While Loop.\n",
    "\n",
    "The while loop continues for as long as the condition is met. "
   ]
  },
  {
   "cell_type": "markdown",
   "id": "5989f033",
   "metadata": {},
   "source": [
    "#### Create a program, in which \"Python Programming\" is written with spaces in between. Do it with while loop. "
   ]
  },
  {
   "cell_type": "code",
   "execution_count": 6,
   "id": "5c4a7257",
   "metadata": {
    "scrolled": false
   },
   "outputs": [
    {
     "name": "stdout",
     "output_type": "stream",
     "text": [
      "P y t h o n   P r o g r a m m i n g "
     ]
    },
    {
     "data": {
      "text/plain": [
       "'Program End'"
      ]
     },
     "execution_count": 6,
     "metadata": {},
     "output_type": "execute_result"
    }
   ],
   "source": [
    "s1 = \"Python Programming\"\n",
    "l = len(s1)                           #l is length of s1\n",
    "x=0                                   #x is index number\n",
    "while x<l:                            #shows that as long as x < l, the loop will continue.\n",
    "    print(s1[x], end = ' ')           #print x character of s1, also, end with space instead of enter\n",
    "    x=x+1\n",
    "\"Program End\""
   ]
  },
  {
   "cell_type": "markdown",
   "id": "3f610f4e",
   "metadata": {},
   "source": [
    "Create a program using while loop, in which you sum all numbers between two numbers. E.g. Sum all numbers between 1 - 10"
   ]
  },
  {
   "cell_type": "code",
   "execution_count": 10,
   "id": "e89c3579",
   "metadata": {},
   "outputs": [
    {
     "name": "stdout",
     "output_type": "stream",
     "text": [
      "55\n"
     ]
    }
   ],
   "source": [
    "#x = 1                   #starting value\n",
    "#y = 10                  #ending value\n",
    "#sum = 0                 #sum of value after addition of each value.\n",
    "#while x <= y:           #run this loop as long as starting value is < ending value\n",
    "#    sum = sum + x       #Add x in sum value, as long as the condition is met.\n",
    "#    x = x + 1           #Increase x with 1 on each loop.\n",
    "#print(sum)"
   ]
  },
  {
   "cell_type": "markdown",
   "id": "8e578167",
   "metadata": {},
   "source": [
    "Create a program using while loop, in which you sum all input values given by the user, as long as the value is 'N'."
   ]
  },
  {
   "cell_type": "code",
   "execution_count": null,
   "id": "b63f66b5",
   "metadata": {},
   "outputs": [],
   "source": [
    "x = ''                   #starting value\n",
    "y = 'N'                  #ending value\n",
    "sum = 0                 #sum of value after addition of each value.\n",
    "while x != 'N':           #run this loop as long as starting value is < ending value\n",
    "    x = input(\"Enter Number or\")\n",
    "    if x != 'N':\n",
    "        sum = sum + int(x)       #Add x in sum value, as long as the condition is met.\n",
    "\n",
    "print(sum)"
   ]
  },
  {
   "cell_type": "markdown",
   "id": "2a9f0961",
   "metadata": {},
   "source": [
    "The code above is not working. due to reasons unknown."
   ]
  },
  {
   "cell_type": "markdown",
   "id": "6b5a1494",
   "metadata": {},
   "source": [
    "Write a game. you have a secret number. \n",
    "the player has three tries to guess the number.\n"
   ]
  },
  {
   "cell_type": "code",
   "execution_count": null,
   "id": "c2e9ff43",
   "metadata": {},
   "outputs": [],
   "source": [
    "secret_number = 9\n",
    "guess_count = 0\n",
    "guess_limit = 3\n",
    "while guess_count < guess_limit: #will repeat the sequence three times.\n",
    "    guess = int(input('Guess: '))\n",
    "    guess_count += 1\n",
    "    if guess == secret_number:\n",
    "        print('You won!')\n",
    "        break\n",
    "else:\n",
    "    print('Sorry, you failed!')"
   ]
  },
  {
   "cell_type": "markdown",
   "id": "bbf04b06",
   "metadata": {},
   "source": [
    "Car Game:\n",
    "help:\n",
    "    start - to start the car\n",
    "        Car started. . . Ready to go!\n",
    "    stop - to stop the car\n",
    "        Car stopped. . .\n",
    "    quit - to exit \n"
   ]
  },
  {
   "cell_type": "code",
   "execution_count": null,
   "id": "280d3d8b",
   "metadata": {},
   "outputs": [],
   "source": [
    "help = \"\"\"\n",
    "\n",
    "\"start - to start the car.\"\\n\n",
    "\"stop - to stop the car\"\\n\n",
    "\"quit - to exit\"\n",
    "\n",
    "\"\"\"\n",
    "\n",
    "command= input(\"what do you want to do?\")\n",
    "while command != \"quit\":\n",
    "    if command == \"start\":\n",
    "        print('Car started... Ready to go!')\n",
    "    elif command == \"stop\":\n",
    "        print('Car stopped...')\n",
    "    elif command == \"quit\":\n",
    "        print('Program is stopped')\n",
    "    else:\n",
    "        print('Invalid command! Please type help to check valid commands')"
   ]
  },
  {
   "cell_type": "code",
   "execution_count": null,
   "id": "ae503fcc",
   "metadata": {},
   "outputs": [],
   "source": [
    "#Solution by Mosh\n",
    "\n",
    "\n",
    "command= \"\"\n",
    "started = False\n",
    "while True:\n",
    "    command = input(\"> \").lower()\n",
    "    if command == \"start\":\n",
    "        if started:\n",
    "            print(\"Car is already started!\")\n",
    "        else:\n",
    "            started = True\n",
    "            print('Car started... Ready to go!')\n",
    "    elif command == \"stop\":\n",
    "        if not started:\n",
    "            print(\"Car is already stopped!\")\n",
    "        else:\n",
    "            started = False\n",
    "            print('Car stopped...')\n",
    "    elif command == \"help\":\n",
    "        print(\"\"\"\n",
    "start - to start the car.\n",
    "stop - to stop the car\n",
    "quit - to exit\n",
    "        \"\"\")\n",
    "    elif command ==\"quit\":\n",
    "        break\n",
    "    else:\n",
    "        print('Invalid command! Please type help to check valid commands')"
   ]
  },
  {
   "cell_type": "raw",
   "id": "216d6472",
   "metadata": {},
   "source": [
    "write the following form. \n",
    "\n",
    "1 2 3 4 5\n",
    "1 2 3 4 5\n",
    "1 2 3 4 5\n",
    "1 2 3 4 5\n",
    "1 2 3 4 5"
   ]
  },
  {
   "cell_type": "code",
   "execution_count": null,
   "id": "77009217",
   "metadata": {},
   "outputs": [],
   "source": [
    "i = 1\n",
    "while i <= 5:\n",
    "    j = 1\n",
    "    while j <= 5:\n",
    "        print(j, end =' ')\n",
    "        j = j+1\n",
    "    print()\n",
    "    i+=1"
   ]
  },
  {
   "cell_type": "code",
   "execution_count": null,
   "id": "e60779c3",
   "metadata": {},
   "outputs": [],
   "source": []
  }
 ],
 "metadata": {
  "kernelspec": {
   "display_name": "Python 3 (ipykernel)",
   "language": "python",
   "name": "python3"
  },
  "language_info": {
   "codemirror_mode": {
    "name": "ipython",
    "version": 3
   },
   "file_extension": ".py",
   "mimetype": "text/x-python",
   "name": "python",
   "nbconvert_exporter": "python",
   "pygments_lexer": "ipython3",
   "version": "3.11.4"
  }
 },
 "nbformat": 4,
 "nbformat_minor": 5
}
