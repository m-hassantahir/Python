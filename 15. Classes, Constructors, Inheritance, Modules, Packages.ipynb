{
 "cells": [
  {
   "cell_type": "raw",
   "id": "71d95a22",
   "metadata": {},
   "source": [
    "basic types \n",
    "numbers\n",
    "strings\n",
    "booleans\n",
    "\n",
    "complex types\n",
    "lists\n",
    "dictionaries\n",
    "\n",
    "\n",
    "shopping cart"
   ]
  },
  {
   "cell_type": "code",
   "execution_count": null,
   "id": "37cd0cea",
   "metadata": {},
   "outputs": [],
   "source": [
    "#create points\n",
    "numbers = [1,2,3]\n"
   ]
  },
  {
   "cell_type": "code",
   "execution_count": 3,
   "id": "62789aae",
   "metadata": {},
   "outputs": [
    {
     "name": "stdout",
     "output_type": "stream",
     "text": [
      "10\n",
      "draw\n",
      "1\n"
     ]
    }
   ],
   "source": [
    "class Point: #pascal language convention. use capitalize each word.\n",
    "    def move(self):\n",
    "        print(\"move\")\n",
    "        \n",
    "    def draw(self):\n",
    "        print(\"draw\")\n",
    "    \n",
    "#an object is an instance of a class.\n",
    "point1 = Point()\n",
    "point1.x = 10\n",
    "point1.y = 20\n",
    "print(point1.x)\n",
    "point1.draw()\n",
    "\n",
    "point2 = Point()\n",
    "point2.x = 1\n",
    "print(point2.x)"
   ]
  },
  {
   "cell_type": "markdown",
   "id": "761c9bca",
   "metadata": {},
   "source": [
    "## Constructors"
   ]
  },
  {
   "cell_type": "code",
   "execution_count": 5,
   "id": "3934ccac",
   "metadata": {},
   "outputs": [
    {
     "name": "stdout",
     "output_type": "stream",
     "text": [
      "10\n"
     ]
    }
   ],
   "source": [
    "class Point:\n",
    "    def __init__(self,x,y): #this initialization method is used to construct or initialize an object. here it is initializing the object x and object y.\n",
    "        self.x = x\n",
    "        self.y = y\n",
    "        \n",
    "    def move(self):\n",
    "        print(\"move\")\n",
    "        \n",
    "    def draw(self):\n",
    "        print(\"draw\")\n",
    "        \n",
    "point = Point(10,20)\n",
    "print(point.x)\n"
   ]
  },
  {
   "cell_type": "code",
   "execution_count": null,
   "id": "3b13ca63",
   "metadata": {},
   "outputs": [],
   "source": [
    "person\n",
    "-name\n",
    "-talk"
   ]
  },
  {
   "cell_type": "code",
   "execution_count": 20,
   "id": "eb67e9e2",
   "metadata": {},
   "outputs": [
    {
     "name": "stdout",
     "output_type": "stream",
     "text": [
      "Hi, I am John Smith. What should I talk?\n",
      "Hi, I am Bob Smith. What should I talk?\n"
     ]
    }
   ],
   "source": [
    "class Person:\n",
    "    def __init__(self,name):\n",
    "        self.name = name\n",
    "    \n",
    "    def talk(self):\n",
    "        print(f\"Hi, I am {self.name}. What should I talk?\")\n",
    "\n",
    "        \n",
    "john = Person(\"John Smith\")\n",
    "john.talk()\n",
    "\n",
    "bob = Person(\"Bob Smith\")\n",
    "bob.talk()"
   ]
  },
  {
   "cell_type": "markdown",
   "id": "d4451ea8",
   "metadata": {},
   "source": [
    "## Inheritance"
   ]
  },
  {
   "cell_type": "raw",
   "id": "97484025",
   "metadata": {},
   "source": [
    "class Dog:\n",
    "    def walk(self):\n",
    "        print(\"walk\")\n",
    "\n",
    "        \n",
    "class Cat:\n",
    "    def walk(self):\n",
    "        print(\"walk\")\n",
    "        \n",
    "\n",
    "instead of repeating the same walk function again and again, we can refer walk to mammals.\n",
    "\n"
   ]
  },
  {
   "cell_type": "code",
   "execution_count": 24,
   "id": "8bc04808",
   "metadata": {},
   "outputs": [
    {
     "name": "stdout",
     "output_type": "stream",
     "text": [
      "walk\n"
     ]
    }
   ],
   "source": [
    "class Mammal:\n",
    "    def walk(self):\n",
    "        print(\"walk\")\n",
    "        \n",
    "        \n",
    "class Dog(Mammal):\n",
    "    def bark(self):\n",
    "        print(\"bark\")\n",
    "\n",
    "\n",
    "class Cat(Mammal):\n",
    "    pass\n",
    "\n",
    "\n",
    "dog1 = Dog()\n",
    "dog1.walk()"
   ]
  },
  {
   "cell_type": "markdown",
   "id": "b41c7656",
   "metadata": {},
   "source": [
    "## Modules"
   ]
  },
  {
   "cell_type": "code",
   "execution_count": 32,
   "id": "8cbb2147",
   "metadata": {
    "scrolled": true
   },
   "outputs": [],
   "source": [
    "import converting as cn"
   ]
  },
  {
   "cell_type": "code",
   "execution_count": 33,
   "id": "9ea0f5fb",
   "metadata": {},
   "outputs": [
    {
     "ename": "ModuleNotFoundError",
     "evalue": "No module named 'converters'",
     "output_type": "error",
     "traceback": [
      "\u001b[1;31m---------------------------------------------------------------------------\u001b[0m",
      "\u001b[1;31mModuleNotFoundError\u001b[0m                       Traceback (most recent call last)",
      "Cell \u001b[1;32mIn[33], line 3\u001b[0m\n\u001b[0;32m      1\u001b[0m \u001b[38;5;66;03m#you can import a specific function from the module.\u001b[39;00m\n\u001b[1;32m----> 3\u001b[0m \u001b[38;5;28;01mimport\u001b[39;00m \u001b[38;5;21;01mconverters\u001b[39;00m\n\u001b[0;32m      4\u001b[0m \u001b[38;5;28;01mfrom\u001b[39;00m \u001b[38;5;21;01mconverters\u001b[39;00m \u001b[38;5;28;01mimport\u001b[39;00m kg_to_lbs\n\u001b[0;32m      6\u001b[0m kg_to_lbs(\u001b[38;5;241m100\u001b[39m)\n",
      "\u001b[1;31mModuleNotFoundError\u001b[0m: No module named 'converters'"
     ]
    }
   ],
   "source": [
    "#you can import a specific function from the module.\n",
    "\n",
    "print(converting.kg_to_lbs(100)"
   ]
  }
 ],
 "metadata": {
  "kernelspec": {
   "display_name": "Python 3 (ipykernel)",
   "language": "python",
   "name": "python3"
  },
  "language_info": {
   "codemirror_mode": {
    "name": "ipython",
    "version": 3
   },
   "file_extension": ".py",
   "mimetype": "text/x-python",
   "name": "python",
   "nbconvert_exporter": "python",
   "pygments_lexer": "ipython3",
   "version": "3.11.4"
  }
 },
 "nbformat": 4,
 "nbformat_minor": 5
}
