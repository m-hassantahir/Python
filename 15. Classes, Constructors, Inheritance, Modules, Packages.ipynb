{
 "cells": [
  {
   "cell_type": "raw",
   "id": "71d95a22",
   "metadata": {},
   "source": [
    "basic types \n",
    "numbers\n",
    "strings\n",
    "booleans\n",
    "\n",
    "complex types\n",
    "lists\n",
    "dictionaries\n",
    "\n",
    "\n",
    "shopping cart"
   ]
  },
  {
   "cell_type": "code",
   "execution_count": null,
   "id": "37cd0cea",
   "metadata": {},
   "outputs": [],
   "source": [
    "#create points\n",
    "numbers = [1,2,3]\n"
   ]
  },
  {
   "cell_type": "code",
   "execution_count": 8,
   "id": "2106cf71",
   "metadata": {},
   "outputs": [
    {
     "name": "stdout",
     "output_type": "stream",
     "text": [
      "move\n"
     ]
    }
   ],
   "source": [
    "class Point: #pascal language convention. use capitalize each word.\n",
    "    def move(self):\n",
    "        print(\"move\")\n",
    "        \n",
    "    def draw(self):\n",
    "        print(\"draw\")\n",
    "        \n",
    "\n",
    "point = Point()\n",
    "point.move()"
   ]
  },
  {
   "cell_type": "code",
   "execution_count": 3,
   "id": "62789aae",
   "metadata": {},
   "outputs": [
    {
     "name": "stdout",
     "output_type": "stream",
     "text": [
      "10\n",
      "draw\n",
      "1\n"
     ]
    }
   ],
   "source": [
    "class Point: #pascal language convention. use capitalize each word.\n",
    "    def move(self):\n",
    "        print(\"move\")\n",
    "        \n",
    "    def draw(self):\n",
    "        print(\"draw\")\n",
    "    \n",
    "#an object is an instance of a class.\n",
    "point1 = Point()\n",
    "point1.x = 10\n",
    "point1.y = 20\n",
    "print(point1.x)\n",
    "point1.draw()\n",
    "\n",
    "point2 = Point()\n",
    "point2.x = 1\n",
    "print(point2.x)"
   ]
  },
  {
   "cell_type": "markdown",
   "id": "761c9bca",
   "metadata": {},
   "source": [
    "## Constructors"
   ]
  },
  {
   "cell_type": "code",
   "execution_count": 14,
   "id": "3934ccac",
   "metadata": {},
   "outputs": [
    {
     "name": "stdout",
     "output_type": "stream",
     "text": [
      "draw\n"
     ]
    },
    {
     "data": {
      "text/plain": [
       "10"
      ]
     },
     "execution_count": 14,
     "metadata": {},
     "output_type": "execute_result"
    }
   ],
   "source": [
    "class Point:\n",
    "    def __init__(self,x,y): #this initialization method is used to construct or initialize an object. here it is initializing the object x and object y.\n",
    "        self.x = x\n",
    "        self.y = y\n",
    "        \n",
    "    def move(self):\n",
    "        print(\"move\")\n",
    "        \n",
    "    def draw(self):\n",
    "        print(\"draw\")\n",
    "        \n",
    "point = Point(10,20)\n",
    "\n",
    "point.draw()\n",
    "point.x"
   ]
  },
  {
   "cell_type": "code",
   "execution_count": 22,
   "id": "956f1e7a",
   "metadata": {},
   "outputs": [
    {
     "name": "stdout",
     "output_type": "stream",
     "text": [
      "Toyota Passo\n",
      "001\n",
      "130kph\n",
      "Plum\n",
      "top_speed = 130kph\n",
      "\n",
      "Honda City\n",
      "White\n",
      "top_speed = 160kph\n",
      "<__main__.Cars object at 0x0000024957F82890>\n"
     ]
    }
   ],
   "source": [
    "class Cars:\n",
    "    def __init__(self, sr_no, name, colour, speed):\n",
    "        self.sr_no = sr_no\n",
    "        self.name = name\n",
    "        self.colour = colour\n",
    "        self.speed = speed\n",
    "    \n",
    "    \n",
    "    def spead(self, speed):\n",
    "        print(f\"top_speed = {speed}\")\n",
    "        \n",
    "        \n",
    "        \n",
    "passo = Cars(\"001\", \"Toyota Passo\", \"Plum\", \"130kph\")\n",
    "print(passo.name)\n",
    "print(passo.sr_no)\n",
    "print(passo.speed)\n",
    "print(passo.colour)\n",
    "passo.spead(passo.speed)\n",
    "print()\n",
    "\n",
    "city = Cars(\"002\",\"Honda City\",\"White\",\"160kph\")\n",
    "print(city.name)\n",
    "print(city.colour)\n",
    "city.spead(city.speed)\n",
    "\n",
    "\n",
    "print(city)"
   ]
  },
  {
   "cell_type": "code",
   "execution_count": null,
   "id": "3b13ca63",
   "metadata": {},
   "outputs": [],
   "source": [
    "person\n",
    "-name\n",
    "-talk"
   ]
  },
  {
   "cell_type": "code",
   "execution_count": 20,
   "id": "eb67e9e2",
   "metadata": {},
   "outputs": [
    {
     "name": "stdout",
     "output_type": "stream",
     "text": [
      "Hi, I am John Smith. What should I talk?\n",
      "Hi, I am Bob Smith. What should I talk?\n"
     ]
    }
   ],
   "source": [
    "class Person:\n",
    "    def __init__(self,name):\n",
    "        self.name = name\n",
    "    \n",
    "    def talk(self):\n",
    "        print(f\"Hi, I am {self.name}. What should I talk?\")\n",
    "\n",
    "        \n",
    "john = Person(\"John Smith\")\n",
    "john.talk()\n",
    "\n",
    "bob = Person(\"Bob Smith\")\n",
    "bob.talk()"
   ]
  },
  {
   "cell_type": "markdown",
   "id": "d4451ea8",
   "metadata": {},
   "source": [
    "## Inheritance"
   ]
  },
  {
   "cell_type": "raw",
   "id": "97484025",
   "metadata": {},
   "source": [
    "class Dog:\n",
    "    def walk(self):\n",
    "        print(\"walk\")\n",
    "\n",
    "        \n",
    "class Cat:\n",
    "    def walk(self):\n",
    "        print(\"walk\")\n",
    "        \n",
    "\n",
    "instead of repeating the same walk function again and again, we can refer walk to mammals.\n",
    "\n"
   ]
  },
  {
   "cell_type": "code",
   "execution_count": 10,
   "id": "8bc04808",
   "metadata": {},
   "outputs": [
    {
     "name": "stdout",
     "output_type": "stream",
     "text": [
      "bark\n",
      "walk\n",
      "walk\n"
     ]
    }
   ],
   "source": [
    "class Mammal:\n",
    "    def walk(self):\n",
    "        print(\"walk\")\n",
    "        \n",
    "        \n",
    "class Dog(Mammal):\n",
    "    def bark(self):\n",
    "        print(\"bark\")\n",
    "\n",
    "\n",
    "class Cat(Mammal):\n",
    "    pass\n",
    "\n",
    "\n",
    "dog1 = Dog()\n",
    "cat1 = Cat()\n",
    "\n",
    "dog1.bark()\n",
    "dog1.walk()\n",
    "cat1.walk"
   ]
  },
  {
   "cell_type": "markdown",
   "id": "b41c7656",
   "metadata": {},
   "source": [
    "## Modules"
   ]
  },
  {
   "cell_type": "code",
   "execution_count": 2,
   "id": "8cbb2147",
   "metadata": {
    "scrolled": true
   },
   "outputs": [],
   "source": [
    "import converting as cn"
   ]
  },
  {
   "cell_type": "code",
   "execution_count": 4,
   "id": "9ea0f5fb",
   "metadata": {},
   "outputs": [
    {
     "name": "stdout",
     "output_type": "stream",
     "text": [
      "222.22222222222223\n"
     ]
    }
   ],
   "source": [
    "#you can import a specific function from the module.\n",
    "\n",
    "print(cn.kg_to_lbs(100))"
   ]
  },
  {
   "cell_type": "code",
   "execution_count": null,
   "id": "247bc077",
   "metadata": {},
   "outputs": [],
   "source": []
  }
 ],
 "metadata": {
  "kernelspec": {
   "display_name": "Python 3 (ipykernel)",
   "language": "python",
   "name": "python3"
  },
  "language_info": {
   "codemirror_mode": {
    "name": "ipython",
    "version": 3
   },
   "file_extension": ".py",
   "mimetype": "text/x-python",
   "name": "python",
   "nbconvert_exporter": "python",
   "pygments_lexer": "ipython3",
   "version": "3.11.4"
  }
 },
 "nbformat": 4,
 "nbformat_minor": 5
}
