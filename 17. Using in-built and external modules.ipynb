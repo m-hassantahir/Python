{
 "cells": [
  {
   "cell_type": "code",
   "execution_count": 20,
   "id": "8a85a22b",
   "metadata": {
    "scrolled": true
   },
   "outputs": [
    {
     "name": "stdout",
     "output_type": "stream",
     "text": [
      "0.041353632798134976 0.5221723339896546 0.7982274007850577 "
     ]
    }
   ],
   "source": [
    "#Import random module from python built-in libraries\n",
    "#generate random values.\n",
    "\n",
    "import random\n",
    "for i in range(3):\n",
    "    print(random.random(), end=\", \")"
   ]
  },
  {
   "cell_type": "code",
   "execution_count": 2,
   "id": "6438a661",
   "metadata": {},
   "outputs": [
    {
     "name": "stdout",
     "output_type": "stream",
     "text": [
      "20\n",
      "19\n",
      "18\n"
     ]
    }
   ],
   "source": [
    "#generate values between 10 and 20\n",
    "\n",
    "import random\n",
    "for i in range(3):\n",
    "    print(random.randint(10,20))"
   ]
  },
  {
   "cell_type": "code",
   "execution_count": 16,
   "id": "3d714c04",
   "metadata": {},
   "outputs": [
    {
     "name": "stdout",
     "output_type": "stream",
     "text": [
      "Mary\n"
     ]
    }
   ],
   "source": [
    "#randomly pick an item from a list.\n",
    "members = ['John', 'Mary', 'Bob', 'Mosh']\n",
    "\n",
    "leader = random.choice(members)\n",
    "print(leader)"
   ]
  },
  {
   "cell_type": "code",
   "execution_count": 34,
   "id": "e27a9365",
   "metadata": {},
   "outputs": [
    {
     "name": "stdout",
     "output_type": "stream",
     "text": [
      "2, 5, "
     ]
    }
   ],
   "source": [
    "#Make a function called dice\n",
    "\n",
    "numbers = [1,2,3,4,5,6]\n",
    "import random\n",
    "for i in range(2):\n",
    "    print(random.choice(numbers), end=\", \")"
   ]
  },
  {
   "cell_type": "code",
   "execution_count": 53,
   "id": "0056e2d0",
   "metadata": {},
   "outputs": [
    {
     "name": "stdout",
     "output_type": "stream",
     "text": [
      "(3, 3)\n"
     ]
    }
   ],
   "source": [
    "#solution\n",
    "\n",
    "import random\n",
    "class Dice:\n",
    "    def roll(self):\n",
    "        first= random.randint(1,6)\n",
    "        second= random.randint(1,6)\n",
    "        return first, second\n",
    "    \n",
    "    \n",
    "dice = Dice()\n",
    "print(dice.roll())"
   ]
  },
  {
   "cell_type": "raw",
   "id": "dd2f9999",
   "metadata": {},
   "source": [
    "from pathlib import Path\n",
    "path = Path(\"emails\")\n",
    "print(path.exists()) #it will tell if the path exists\n",
    "print(path.mkdir()) #it will make a new directory\n",
    "print(path.rmdir()) #it will remove the directory\n",
    "print(path.glob(*.*)) #all files in current directory\n",
    "print(path.glob(*.py)) #all py files"
   ]
  },
  {
   "cell_type": "raw",
   "id": "19cb14d6",
   "metadata": {},
   "source": [
    "for file in path.glob('*.py'):\n",
    "    print(file)"
   ]
  },
  {
   "cell_type": "code",
   "execution_count": null,
   "id": "96340d9c",
   "metadata": {},
   "outputs": [],
   "source": [
    "openpyxl\n"
   ]
  },
  {
   "cell_type": "code",
   "execution_count": 54,
   "id": "1d446cb0",
   "metadata": {},
   "outputs": [
    {
     "name": "stdout",
     "output_type": "stream",
     "text": [
      "Defaulting to user installation because normal site-packages is not writeable\n",
      "Requirement already satisfied: openpyxl in c:\\programdata\\anaconda3\\lib\\site-packages (3.0.10)\n",
      "Requirement already satisfied: et_xmlfile in c:\\programdata\\anaconda3\\lib\\site-packages (from openpyxl) (1.1.0)\n",
      "Note: you may need to restart the kernel to use updated packages.\n"
     ]
    }
   ],
   "source": [
    "pip install openpyxl"
   ]
  },
  {
   "cell_type": "code",
   "execution_count": null,
   "id": "3147d48f",
   "metadata": {},
   "outputs": [],
   "source": []
  }
 ],
 "metadata": {
  "kernelspec": {
   "display_name": "Python 3 (ipykernel)",
   "language": "python",
   "name": "python3"
  },
  "language_info": {
   "codemirror_mode": {
    "name": "ipython",
    "version": 3
   },
   "file_extension": ".py",
   "mimetype": "text/x-python",
   "name": "python",
   "nbconvert_exporter": "python",
   "pygments_lexer": "ipython3",
   "version": "3.11.4"
  }
 },
 "nbformat": 4,
 "nbformat_minor": 5
}
