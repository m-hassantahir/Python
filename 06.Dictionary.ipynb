{
 "cells": [
  {
   "cell_type": "markdown",
   "id": "619d3e12",
   "metadata": {},
   "source": [
    "# Dictionary"
   ]
  },
  {
   "cell_type": "markdown",
   "id": "d3f7c97a",
   "metadata": {},
   "source": [
    "Dictionaries are used to store data values in key:value pairs."
   ]
  },
  {
   "cell_type": "markdown",
   "id": "cec6d1fd",
   "metadata": {},
   "source": [
    "we can use integer, boolean, string, list, tuple, set, float.\n",
    "Items are ordered and changeable.\n",
    "Duplicate values are not allowed.\n"
   ]
  },
  {
   "cell_type": "code",
   "execution_count": 4,
   "id": "1626cbaf",
   "metadata": {},
   "outputs": [
    {
     "name": "stdout",
     "output_type": "stream",
     "text": [
      "Shakir\n",
      "<class 'dict'>\n",
      "None\n",
      "Nov. 05, 1987\n"
     ]
    }
   ],
   "source": [
    "person = {\n",
    "    'name' : 'Shakir',\n",
    "    'age' : 25,\n",
    "    'salary' : 50000 \n",
    "}\n",
    "print(person['name'])\n",
    "print(type(person))\n",
    "\n",
    "print(person.get(\"Nname\")) #instead of using key, we can use get value.\n",
    "print(person.get(\"birthdate\", \"Nov. 05, 1987\"))"
   ]
  },
  {
   "cell_type": "code",
   "execution_count": 12,
   "id": "87b99bc1",
   "metadata": {},
   "outputs": [
    {
     "name": "stdout",
     "output_type": "stream",
     "text": [
      "Shakir\n"
     ]
    }
   ],
   "source": [
    "#by using get function\n",
    "print(person.get('name'))"
   ]
  },
  {
   "cell_type": "code",
   "execution_count": 13,
   "id": "cfcf6578",
   "metadata": {},
   "outputs": [],
   "source": [
    "country = dict({'Area':'1 Kanal'})"
   ]
  },
  {
   "cell_type": "code",
   "execution_count": 14,
   "id": "738edbbb",
   "metadata": {},
   "outputs": [
    {
     "name": "stdout",
     "output_type": "stream",
     "text": [
      "True\n"
     ]
    }
   ],
   "source": [
    "#if something is in the dictionary or not.\n",
    "print('age' in person)"
   ]
  },
  {
   "cell_type": "markdown",
   "id": "2d8648d9",
   "metadata": {},
   "source": [
    "#write a program as follows:\n",
    "You insert \n",
    "Phone: 1234\n",
    "It converts it into\n",
    "one two three four"
   ]
  },
  {
   "cell_type": "code",
   "execution_count": 21,
   "id": "9b4c526d",
   "metadata": {
    "scrolled": true
   },
   "outputs": [
    {
     "name": "stdout",
     "output_type": "stream",
     "text": [
      "Phone: 123456\n",
      "one two three four five ! \n"
     ]
    }
   ],
   "source": [
    "phone = input(\"Phone: \")\n",
    "digits = {\n",
    "    \"1\" : 'one',\n",
    "    \"2\" : 'two',\n",
    "    \"3\" : 'three',\n",
    "    \"4\" : 'four',\n",
    "    \"5\" : 'five',\n",
    "    #\"6\" : 'six',\n",
    "    \"7\" : 'seven',\n",
    "    \"8\" : 'eight',\n",
    "    \"9\" : 'nine',\n",
    "    \"0\" : 'zero'\n",
    "}\n",
    "\n",
    "output = \"\"\n",
    "for ch in phone:\n",
    "    output = output + digits.get(ch, \"!\") + \" \"\n",
    "print(output)"
   ]
  },
  {
   "cell_type": "code",
   "execution_count": 30,
   "id": "028ba4c9",
   "metadata": {},
   "outputs": [
    {
     "name": "stdout",
     "output_type": "stream",
     "text": [
      ">good morning sunshine :)\n",
      "good morning sunshine 😊 \n"
     ]
    }
   ],
   "source": [
    "#set up emojis\n",
    "message = input(\">\")\n",
    "words= message.split(\" \")\n",
    "emojis = {\n",
    "    \":)\" : \"😊\"\n",
    "    #\":*\" : \"😢\"\n",
    "}\n",
    "output = \"\"\n",
    "for word in words:\n",
    "    output += emojis.get(word, word) +\" \"\n",
    "print(output)"
   ]
  },
  {
   "cell_type": "code",
   "execution_count": 15,
   "id": "af046040",
   "metadata": {
    "scrolled": true
   },
   "outputs": [
    {
     "name": "stdout",
     "output_type": "stream",
     "text": [
      "name\n",
      "age\n",
      "salary\n"
     ]
    }
   ],
   "source": [
    "#extract all keys in the dictionary\n",
    "pkeys = person.keys()\n",
    "for x in pkeys:\n",
    "    print(x)"
   ]
  },
  {
   "cell_type": "code",
   "execution_count": 5,
   "id": "43b88200",
   "metadata": {},
   "outputs": [
    {
     "name": "stdout",
     "output_type": "stream",
     "text": [
      "Shakir\n",
      "25\n",
      "50000\n"
     ]
    }
   ],
   "source": [
    "#extract all values in the dictionary\n",
    "pvalues = person.values()\n",
    "for x in pvalues:\n",
    "    print(x)"
   ]
  },
  {
   "cell_type": "code",
   "execution_count": 31,
   "id": "a74be2ab",
   "metadata": {},
   "outputs": [
    {
     "name": "stdout",
     "output_type": "stream",
     "text": [
      "dict_items([('name', 'Shakir'), ('age', 25), ('salary', 50000)])\n",
      "<class 'builtin_function_or_method'>\n"
     ]
    }
   ],
   "source": [
    "print(person.items())\n",
    "print(type(person.items))"
   ]
  },
  {
   "cell_type": "code",
   "execution_count": 19,
   "id": "ea1eaa92",
   "metadata": {},
   "outputs": [
    {
     "name": "stdout",
     "output_type": "stream",
     "text": [
      "('name', 'Shakir')\n",
      "('age', 25)\n",
      "('salary', 50000)\n",
      "<class 'tuple'>\n"
     ]
    }
   ],
   "source": [
    "for x in person.items():\n",
    "    print(x)\n",
    "print(type(x))"
   ]
  },
  {
   "cell_type": "code",
   "execution_count": 21,
   "id": "e01dc698",
   "metadata": {},
   "outputs": [
    {
     "name": "stdout",
     "output_type": "stream",
     "text": [
      "a= name b= Shakir\n",
      "a= age b= 25\n",
      "a= salary b= 50000\n"
     ]
    }
   ],
   "source": [
    "#unpack\n",
    "for x in person.items():\n",
    "    (a, b) = x\n",
    "    print(\"a=\",a, \"b=\",b)"
   ]
  },
  {
   "cell_type": "code",
   "execution_count": 25,
   "id": "c616ee4d",
   "metadata": {},
   "outputs": [
    {
     "data": {
      "text/plain": [
       "{'name': 'Shakir', 'age': 30, 'salary': 50000}"
      ]
     },
     "execution_count": 25,
     "metadata": {},
     "output_type": "execute_result"
    }
   ],
   "source": [
    "#update an item\n",
    "person['age'] = 30\n",
    "person"
   ]
  },
  {
   "cell_type": "code",
   "execution_count": 26,
   "id": "34a639e4",
   "metadata": {},
   "outputs": [
    {
     "data": {
      "text/plain": [
       "{'name': 'Shakir', 'age': 30, 'salary': 50000, 'country': 'Pakistan'}"
      ]
     },
     "execution_count": 26,
     "metadata": {},
     "output_type": "execute_result"
    }
   ],
   "source": [
    "#add an item\n",
    "person['country'] = 'Pakistan'\n",
    "person"
   ]
  },
  {
   "cell_type": "code",
   "execution_count": 27,
   "id": "1a8cc232",
   "metadata": {},
   "outputs": [
    {
     "data": {
      "text/plain": [
       "{'name': 'Shakir', 'salary': 50000, 'country': 'Pakistan'}"
      ]
     },
     "execution_count": 27,
     "metadata": {},
     "output_type": "execute_result"
    }
   ],
   "source": [
    "person.pop('age')\n",
    "person"
   ]
  }
 ],
 "metadata": {
  "kernelspec": {
   "display_name": "Python 3 (ipykernel)",
   "language": "python",
   "name": "python3"
  },
  "language_info": {
   "codemirror_mode": {
    "name": "ipython",
    "version": 3
   },
   "file_extension": ".py",
   "mimetype": "text/x-python",
   "name": "python",
   "nbconvert_exporter": "python",
   "pygments_lexer": "ipython3",
   "version": "3.11.4"
  }
 },
 "nbformat": 4,
 "nbformat_minor": 5
}
