{
 "cells": [
  {
   "cell_type": "code",
   "execution_count": 22,
   "id": "ffb1d57c",
   "metadata": {},
   "outputs": [
    {
     "name": "stdout",
     "output_type": "stream",
     "text": [
      "[1, 1, 1, 2, 4, 4, 4, 4, 4, 5, 5, 2, 1, 7, 7, 5]\n",
      "[1, 1, 2, 4, 4, 4, 4, 4, 5, 5, 2, 1, 7, 7, 5]\n",
      "[1, 2, 4, 4, 4, 4, 4, 5, 5, 2, 1, 7, 7, 5]\n",
      "[1, 2, 4, 4, 4, 4, 5, 5, 2, 1, 7, 7, 5]\n",
      "[1, 2, 4, 4, 4, 5, 5, 2, 1, 7, 7, 5]\n",
      "[1, 2, 4, 4, 5, 5, 2, 1, 7, 7, 5]\n",
      "[1, 2, 4, 4, 5, 2, 1, 7, 7, 5]\n",
      "[1, 2, 4, 4, 5, 2, 7, 7, 5]\n"
     ]
    },
    {
     "ename": "IndexError",
     "evalue": "list index out of range",
     "output_type": "error",
     "traceback": [
      "\u001b[1;31m---------------------------------------------------------------------------\u001b[0m",
      "\u001b[1;31mIndexError\u001b[0m                                Traceback (most recent call last)",
      "Input \u001b[1;32mIn [22]\u001b[0m, in \u001b[0;36m<cell line: 5>\u001b[1;34m()\u001b[0m\n\u001b[0;32m      3\u001b[0m n \u001b[38;5;241m=\u001b[39m \u001b[38;5;241m0\u001b[39m\n\u001b[0;32m      5\u001b[0m \u001b[38;5;28;01mwhile\u001b[39;00m n \u001b[38;5;241m<\u001b[39m l:\n\u001b[1;32m----> 7\u001b[0m     m \u001b[38;5;241m=\u001b[39m \u001b[43mnumbers2\u001b[49m\u001b[43m[\u001b[49m\u001b[43mn\u001b[49m\u001b[43m]\u001b[49m\n\u001b[0;32m      8\u001b[0m     \u001b[38;5;28mprint\u001b[39m(numbers2)\n\u001b[0;32m     10\u001b[0m     \u001b[38;5;28;01mwhile\u001b[39;00m numbers2\u001b[38;5;241m.\u001b[39mcount(m) \u001b[38;5;241m>\u001b[39m\u001b[38;5;241m=\u001b[39m \u001b[38;5;241m1\u001b[39m:\n",
      "\u001b[1;31mIndexError\u001b[0m: list index out of range"
     ]
    }
   ],
   "source": [
    "numbers2 = [1, 1, 1, 2, 4, 4, 4, 4, 4, 5, 5, 2, 1, 7, 7, 5]\n",
    "l = len(numbers2)\n",
    "n = 0\n",
    "\n",
    "while n < l:\n",
    "\n",
    "    m = numbers2[n]\n",
    "    print(numbers2)\n",
    "\n",
    "    while numbers2.count(m) >= 1:\n",
    "        numbers2.pop(n)\n",
    "        n += 1\n",
    "        break\n",
    "\n",
    "#while n < l: #n here represents each value one by one.nu..\n",
    "#    print(numbers2.count(m))\n",
    "#    break\n",
    "        \n",
    "#    while numbers2.count(m) > 1:\n",
    "#        \n",
    "#    n += 1\n",
    "#    print(numbers2[n])\n",
    "#print(numbers2)"
   ]
  },
  {
   "cell_type": "code",
   "execution_count": 28,
   "id": "54e75b25",
   "metadata": {},
   "outputs": [],
   "source": [
    "numbers2 = list(set(numbers2))"
   ]
  },
  {
   "cell_type": "code",
   "execution_count": 31,
   "id": "de73c200",
   "metadata": {},
   "outputs": [
    {
     "name": "stdout",
     "output_type": "stream",
     "text": [
      "[1, 2, 4, 5, 7]\n"
     ]
    }
   ],
   "source": [
    "print(numbers2)"
   ]
  }
 ],
 "metadata": {
  "kernelspec": {
   "display_name": "Python 3 (ipykernel)",
   "language": "python",
   "name": "python3"
  },
  "language_info": {
   "codemirror_mode": {
    "name": "ipython",
    "version": 3
   },
   "file_extension": ".py",
   "mimetype": "text/x-python",
   "name": "python",
   "nbconvert_exporter": "python",
   "pygments_lexer": "ipython3",
   "version": "3.9.12"
  }
 },
 "nbformat": 4,
 "nbformat_minor": 5
}
