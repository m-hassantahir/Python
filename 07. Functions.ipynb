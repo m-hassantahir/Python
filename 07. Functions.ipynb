{
 "cells": [
  {
   "cell_type": "code",
   "execution_count": 1,
   "id": "e431ddff",
   "metadata": {},
   "outputs": [
    {
     "name": "stdout",
     "output_type": "stream",
     "text": [
      "Hello World\n",
      "Welcome to Display\n"
     ]
    }
   ],
   "source": [
    "def display(): \n",
    "    print(\"Hello World\")\n",
    "    print(\"Welcome to Display\")\n",
    "display()"
   ]
  },
  {
   "cell_type": "code",
   "execution_count": 2,
   "id": "6aac8285",
   "metadata": {},
   "outputs": [
    {
     "name": "stdout",
     "output_type": "stream",
     "text": [
      "Hello World\n"
     ]
    }
   ],
   "source": [
    "def show():\n",
    "    print(\"Hello World\")\n",
    "show()"
   ]
  },
  {
   "cell_type": "code",
   "execution_count": 3,
   "id": "d86b8c46",
   "metadata": {},
   "outputs": [],
   "source": [
    "#Function with arguments"
   ]
  },
  {
   "cell_type": "code",
   "execution_count": 2,
   "id": "12b837d6",
   "metadata": {},
   "outputs": [
    {
     "name": "stdout",
     "output_type": "stream",
     "text": [
      "Start\n",
      "Hi John!\n",
      "Welcome aboard\n",
      "Hi Mary!\n",
      "Welcome aboard\n",
      "End\n"
     ]
    }
   ],
   "source": [
    "#parameter and argument\n",
    "def greet_user(name): #name is a parameter.\n",
    "    print(f'Hi {name}!')\n",
    "    print('Welcome aboard')\n",
    "\n",
    "\n",
    "print(\"Start\")\n",
    "greet_user(\"John\") #John is an argument that is supplied to the parameter 'name'\n",
    "greet_user(\"Mary\")\n",
    "print(\"End\")"
   ]
  },
  {
   "cell_type": "code",
   "execution_count": 3,
   "id": "03e640c3",
   "metadata": {},
   "outputs": [
    {
     "name": "stdout",
     "output_type": "stream",
     "text": [
      "Start\n",
      "Hi John Smith!\n",
      "Welcome aboard\n",
      "End\n"
     ]
    }
   ],
   "source": [
    "#two positional parameters & arguments\n",
    "def greet_user(first_name, last_name): #name is a parameter.\n",
    "    print(f'Hi {first_name} {last_name}!')\n",
    "    print('Welcome aboard')\n",
    "\n",
    "\n",
    "print(\"Start\")\n",
    "greet_user(\"John\", \"Smith\") #John & Smith are positional arguments. means their positions matter. \n",
    "print(\"End\")"
   ]
  },
  {
   "cell_type": "code",
   "execution_count": 8,
   "id": "87f483f9",
   "metadata": {},
   "outputs": [
    {
     "name": "stdout",
     "output_type": "stream",
     "text": [
      "Start\n",
      "Hi John Smith!\n",
      "Welcome aboard\n",
      "End\n"
     ]
    }
   ],
   "source": [
    "#Two keyword arguments and parameters:\n",
    "def greet_user(first_name, last_name): #name is a parameter.\n",
    "    print(f'Hi {first_name} {last_name}!')\n",
    "    print('Welcome aboard')\n",
    "\n",
    "\n",
    "print(\"Start\")\n",
    "greet_user(last_name=\"Smith\", first_name=\"John\") #John & Smith are keyword arguments. means their positions don't matter anymore. \n",
    "print(\"End\")"
   ]
  },
  {
   "cell_type": "code",
   "execution_count": 92,
   "id": "e90e51d0",
   "metadata": {},
   "outputs": [
    {
     "name": "stdout",
     "output_type": "stream",
     "text": [
      "a= 7\n",
      "b= 10\n",
      "a= 100\n",
      "b= 200\n"
     ]
    }
   ],
   "source": [
    "def hello( a,b ):\n",
    "    print(\"a=\", a)\n",
    "    print(\"b=\", b)\n",
    "\n",
    "hello(7,10)\n",
    "x = 100\n",
    "y = 200\n",
    "hello(x,y)"
   ]
  },
  {
   "cell_type": "code",
   "execution_count": 8,
   "id": "23de0568",
   "metadata": {
    "scrolled": true
   },
   "outputs": [
    {
     "name": "stdout",
     "output_type": "stream",
     "text": [
      "a= 100\n",
      "b= 200\n"
     ]
    }
   ],
   "source": [
    "x = 100\n",
    "y = 200\n",
    "hello_display(x,y)"
   ]
  },
  {
   "cell_type": "code",
   "execution_count": 22,
   "id": "e263bd64",
   "metadata": {},
   "outputs": [
    {
     "name": "stdout",
     "output_type": "stream",
     "text": [
      "sum= 300\n"
     ]
    }
   ],
   "source": [
    "def total(a,b):\n",
    "    s = a+b\n",
    "    print(\"sum=\",s)\n",
    "x=100\n",
    "y=200\n",
    "total(x,y)"
   ]
  },
  {
   "cell_type": "markdown",
   "id": "ccdac62e",
   "metadata": {},
   "source": [
    "### functions of return"
   ]
  },
  {
   "cell_type": "code",
   "execution_count": 1,
   "id": "ccef4e66",
   "metadata": {},
   "outputs": [
    {
     "name": "stdout",
     "output_type": "stream",
     "text": [
      "300\n"
     ]
    }
   ],
   "source": [
    "def total(a,b):\n",
    "    s = a+b\n",
    "    return s\n",
    "x=100\n",
    "y=200\n",
    "g = total(x,y)\n",
    "print(g)"
   ]
  },
  {
   "cell_type": "code",
   "execution_count": 39,
   "id": "e0567148",
   "metadata": {},
   "outputs": [
    {
     "name": "stdout",
     "output_type": "stream",
     "text": [
      "Hello David You've got 25 marks.\n"
     ]
    }
   ],
   "source": [
    "#practice\n",
    "def fun(a, b):\n",
    "    print(f\"Hello {a} You've got {b} marks.\") #f is used when placeholders are used.\n",
    "\n",
    "fun(\"David\", 25)"
   ]
  },
  {
   "cell_type": "code",
   "execution_count": 8,
   "id": "04178f18",
   "metadata": {},
   "outputs": [
    {
     "data": {
      "text/plain": [
       "False"
      ]
     },
     "execution_count": 8,
     "metadata": {},
     "output_type": "execute_result"
    }
   ],
   "source": [
    "is_even(11)"
   ]
  },
  {
   "cell_type": "code",
   "execution_count": 7,
   "id": "e41a9e0b",
   "metadata": {
    "scrolled": true
   },
   "outputs": [
    {
     "name": "stdout",
     "output_type": "stream",
     "text": [
      "Number is even\n"
     ]
    }
   ],
   "source": [
    "#if a number is even or not\n",
    "def is_even(n):\n",
    "    if n % 2==0:\n",
    "        return True\n",
    "    else:\n",
    "        return False\n",
    "\n",
    "if(is_even(10)):\n",
    "    print(\"Number is even\")\n",
    "else: \n",
    "    print(\"Number is odd\")"
   ]
  },
  {
   "cell_type": "code",
   "execution_count": 50,
   "id": "8d2ee3d9",
   "metadata": {},
   "outputs": [
    {
     "name": "stdout",
     "output_type": "stream",
     "text": [
      "The number is Odd\n"
     ]
    }
   ],
   "source": [
    "def is_even(n):\n",
    "    if n % 2==0:\n",
    "        return \"The number is Even\"\n",
    "    else:\n",
    "        return \"The number is Odd\"\n",
    "flag = is_even(11)\n",
    "print(flag)"
   ]
  },
  {
   "cell_type": "markdown",
   "id": "10869a74",
   "metadata": {},
   "source": [
    "### Default Functions"
   ]
  },
  {
   "cell_type": "code",
   "execution_count": 55,
   "id": "17b656a8",
   "metadata": {},
   "outputs": [
    {
     "name": "stdout",
     "output_type": "stream",
     "text": [
      "sum= 300\n"
     ]
    }
   ],
   "source": [
    "def total(a,b=500):\n",
    "    s = a+b\n",
    "    print(\"sum=\",s)\n",
    "x=100\n",
    "y=200 \n",
    "total(x,y) \n",
    "#if we don't value of second argument, it will consider default argument"
   ]
  },
  {
   "cell_type": "code",
   "execution_count": 56,
   "id": "50890ea3",
   "metadata": {},
   "outputs": [
    {
     "name": "stdout",
     "output_type": "stream",
     "text": [
      "[10, 20, 30, 40, 50]\n"
     ]
    }
   ],
   "source": [
    "def show(x):\n",
    "    print(x)\n",
    "show([10,20,30,40,50])"
   ]
  },
  {
   "cell_type": "code",
   "execution_count": 57,
   "id": "25d5b053",
   "metadata": {},
   "outputs": [],
   "source": [
    "def show_2(x):\n",
    "    pass"
   ]
  },
  {
   "cell_type": "markdown",
   "id": "4b0ae706",
   "metadata": {},
   "source": [
    " ## Keyword arguments"
   ]
  },
  {
   "cell_type": "code",
   "execution_count": 65,
   "id": "da557057",
   "metadata": {},
   "outputs": [
    {
     "name": "stdout",
     "output_type": "stream",
     "text": [
      "10 20 30 40 \n",
      "10 40 20 30 "
     ]
    }
   ],
   "source": [
    "def print_numbers(a,b,c,d):\n",
    "    print(a, end=\" \")\n",
    "    print(b, end=\" \")\n",
    "    print(c, end=\" \")\n",
    "    print(d, end=\" \")\n",
    "print_numbers(10,20,30,40)\n",
    "print()\n",
    "print_numbers(a=10,c=20,d=30,b=40)"
   ]
  },
  {
   "cell_type": "markdown",
   "id": "8baff706",
   "metadata": {},
   "source": [
    "## Arbitrary Arguments"
   ]
  },
  {
   "cell_type": "code",
   "execution_count": 76,
   "id": "6556f951",
   "metadata": {},
   "outputs": [
    {
     "name": "stdout",
     "output_type": "stream",
     "text": [
      "10\n",
      "20\n",
      "(30, 30, 40)\n",
      "30\n"
     ]
    }
   ],
   "source": [
    "def show(a, b, *args ):\n",
    "    print(a) \n",
    "    print(b)\n",
    "    print(args) #this will print as tuple\n",
    "    print(args[0]) #this will print 0 index of the tuple\n",
    "    \n",
    "show(10, 20, 30, 30, 40)\n",
    "\n",
    "#first value will go in a,\n",
    "#second value will go in b,\n",
    "# rest of the values will create a tuple"
   ]
  },
  {
   "cell_type": "markdown",
   "id": "ecc312ed",
   "metadata": {},
   "source": [
    "## Arbitrary Keyword Argument"
   ]
  },
  {
   "cell_type": "code",
   "execution_count": 78,
   "id": "d3fc9883",
   "metadata": {},
   "outputs": [
    {
     "name": "stdout",
     "output_type": "stream",
     "text": [
      "{'a': 10, 'b': 20, 'c': 30, 'd': 30, 'e': 40}\n"
     ]
    }
   ],
   "source": [
    "def show( **args ):\n",
    "    print(args) #this will print as tuple\n",
    "    \n",
    "show(a=10, b=20, c=30, d=30, e=40)"
   ]
  },
  {
   "cell_type": "code",
   "execution_count": 80,
   "id": "9160bb7d",
   "metadata": {},
   "outputs": [
    {
     "name": "stdout",
     "output_type": "stream",
     "text": [
      "10\n",
      "{'b': 20, 'c': 30, 'd': 30, 'e': 40}\n"
     ]
    }
   ],
   "source": [
    "def show( a, **args ):\n",
    "    print(a)\n",
    "    print(args) #this will print as tuple\n",
    "\n",
    "b=show(a=10, b=20, c=30, d=30, e=40)\n",
    "b"
   ]
  },
  {
   "cell_type": "markdown",
   "id": "0bcbcb6d",
   "metadata": {},
   "source": [
    "# Exercise Question: Find if it's a prime number"
   ]
  },
  {
   "cell_type": "code",
   "execution_count": 86,
   "id": "2a739744",
   "metadata": {},
   "outputs": [
    {
     "name": "stdout",
     "output_type": "stream",
     "text": [
      "Enter any number34\n",
      "Number is not a prime\n"
     ]
    }
   ],
   "source": [
    "def check_number(n):\n",
    "    i = 2\n",
    "    is_prime = True\n",
    "    while i < n/2:\n",
    "        if n%i ==0:\n",
    "            is_prime = False\n",
    "            break\n",
    "        i = i+1\n",
    "    return is_prime\n",
    "\n",
    "n = int(input(\"Enter any number\"))\n",
    "flag = check_number(n)\n",
    "if flag:\n",
    "    print(\"Number is a prime\")\n",
    "else:\n",
    "    print(\"Number is not a prime\")"
   ]
  },
  {
   "cell_type": "code",
   "execution_count": 88,
   "id": "fe4cdf42",
   "metadata": {},
   "outputs": [
    {
     "data": {
      "text/plain": [
       "True"
      ]
     },
     "execution_count": 88,
     "metadata": {},
     "output_type": "execute_result"
    }
   ],
   "source": [
    "check_number(23)"
   ]
  },
  {
   "cell_type": "code",
   "execution_count": 90,
   "id": "a32d98b5",
   "metadata": {},
   "outputs": [
    {
     "name": "stdout",
     "output_type": "stream",
     "text": [
      "pip 21.2.4 from C:\\Users\\Falcons\\anaconda3\\lib\\site-packages\\pip (python 3.9)\n",
      "\n",
      "Note: you may need to restart the kernel to use updated packages.\n"
     ]
    }
   ],
   "source": [
    "pip --version"
   ]
  },
  {
   "cell_type": "code",
   "execution_count": 91,
   "id": "3d38643a",
   "metadata": {},
   "outputs": [
    {
     "ename": "NameError",
     "evalue": "name 'numpy' is not defined",
     "output_type": "error",
     "traceback": [
      "\u001b[1;31m---------------------------------------------------------------------------\u001b[0m",
      "\u001b[1;31mNameError\u001b[0m                                 Traceback (most recent call last)",
      "Input \u001b[1;32mIn [91]\u001b[0m, in \u001b[0;36m<cell line: 1>\u001b[1;34m()\u001b[0m\n\u001b[1;32m----> 1\u001b[0m \u001b[43mnumpy\u001b[49m \u001b[38;5;241m-\u001b[39m\u001b[38;5;241m-\u001b[39mversion\n",
      "\u001b[1;31mNameError\u001b[0m: name 'numpy' is not defined"
     ]
    }
   ],
   "source": [
    "numpy --version"
   ]
  },
  {
   "cell_type": "code",
   "execution_count": null,
   "id": "f0404bdb",
   "metadata": {},
   "outputs": [],
   "source": [
    " Python List\n",
    "Python Tuples\n",
    "Python Sets\n",
    "Python Dictionaries\n",
    "Functions\n",
    "modules\n",
    "package\n"
   ]
  },
  {
   "cell_type": "code",
   "execution_count": 11,
   "id": "d162cf60",
   "metadata": {},
   "outputs": [
    {
     "name": "stdout",
     "output_type": "stream",
     "text": [
      ">I'm a good man :)\n",
      "I'm a good man 😊 \n"
     ]
    }
   ],
   "source": [
    "def emoji_converter(message):\n",
    "    words = message.split(\" \")\n",
    "    emojis ={\n",
    "        \":)\" : \"😊\"\n",
    "        #\":(\" : \"☹\"\n",
    "    }\n",
    "    output = \"\"\n",
    "    for word in words:\n",
    "        output += emojis.get(word, word) + \" \"\n",
    "    return output\n",
    "\n",
    "\n",
    "message = input(\">\")\n",
    "print(emoji_converter(message))"
   ]
  }
 ],
 "metadata": {
  "kernelspec": {
   "display_name": "Python 3 (ipykernel)",
   "language": "python",
   "name": "python3"
  },
  "language_info": {
   "codemirror_mode": {
    "name": "ipython",
    "version": 3
   },
   "file_extension": ".py",
   "mimetype": "text/x-python",
   "name": "python",
   "nbconvert_exporter": "python",
   "pygments_lexer": "ipython3",
   "version": "3.11.4"
  }
 },
 "nbformat": 4,
 "nbformat_minor": 5
}
