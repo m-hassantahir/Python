{
 "cells": [
  {
   "cell_type": "markdown",
   "id": "b1d27544",
   "metadata": {},
   "source": [
    "# List [], Tuple {}, Set ()"
   ]
  },
  {
   "cell_type": "markdown",
   "id": "cf732fa9",
   "metadata": {},
   "source": [
    "A list can include: integer, string, boolean, tuple, set, etc."
   ]
  },
  {
   "cell_type": "raw",
   "id": "4bc888c8",
   "metadata": {},
   "source": [
    "Properties:\n",
    "Items in list are indexed.\n",
    "Items in list are ordered.\n",
    "Lists are mutable. \n",
    "There can be duplicates.\n",
    "Lists can be multiplied, "
   ]
  },
  {
   "cell_type": "raw",
   "id": "1280b747",
   "metadata": {},
   "source": [
    "append()\n",
    "clear()\n",
    "copy()\n",
    "count()\n",
    "extend()\n",
    "index()\n",
    "insert()\n",
    "pop()\n",
    "remove()\n",
    "reverse()\n",
    "sort()\n",
    "sort(reverse = True)"
   ]
  },
  {
   "cell_type": "markdown",
   "id": "57a994b9",
   "metadata": {},
   "source": [
    "Slicing can be performed"
   ]
  },
  {
   "cell_type": "code",
   "execution_count": 89,
   "id": "a1f7d3e0",
   "metadata": {},
   "outputs": [],
   "source": [
    "fruit_names_change = ['Apple', 'Mango', 'Orange', 'Grapes', 'Mange'] "
   ]
  },
  {
   "cell_type": "code",
   "execution_count": 79,
   "id": "e955577f",
   "metadata": {},
   "outputs": [
    {
     "name": "stdout",
     "output_type": "stream",
     "text": [
      "['Orange', 'Grapes', 'Mange']\n"
     ]
    }
   ],
   "source": [
    "print(fruit_names[2:5])"
   ]
  },
  {
   "cell_type": "markdown",
   "id": "b5b0b3d1",
   "metadata": {},
   "source": [
    "## Creating list using constructor"
   ]
  },
  {
   "cell_type": "code",
   "execution_count": 80,
   "id": "d986c199",
   "metadata": {},
   "outputs": [],
   "source": [
    "marks = list((120,200,150,220,100))"
   ]
  },
  {
   "cell_type": "markdown",
   "id": "c91d463a",
   "metadata": {},
   "source": [
    "## 2D Lists"
   ]
  },
  {
   "cell_type": "code",
   "execution_count": 81,
   "id": "0d5959bf",
   "metadata": {},
   "outputs": [
    {
     "name": "stdout",
     "output_type": "stream",
     "text": [
      "2\n"
     ]
    }
   ],
   "source": [
    "matrix = [\n",
    "    [1, 2, 3],\n",
    "    [4, 5, 6],\n",
    "    [7, 8, 9]\n",
    "]\n",
    "print(matrix[0][1])"
   ]
  },
  {
   "cell_type": "code",
   "execution_count": 63,
   "id": "eb1b9274",
   "metadata": {},
   "outputs": [
    {
     "name": "stdout",
     "output_type": "stream",
     "text": [
      "[[1, 20, 3], [4, 5, 6], [7, 8, 9]]\n"
     ]
    }
   ],
   "source": [
    "matrix[0][1] = 20\n",
    "print(matrix)"
   ]
  },
  {
   "cell_type": "code",
   "execution_count": 65,
   "id": "9d990272",
   "metadata": {},
   "outputs": [
    {
     "name": "stdout",
     "output_type": "stream",
     "text": [
      "1 20 3 4 5 6 7 8 9 "
     ]
    }
   ],
   "source": [
    "for row in matrix:\n",
    "    for item in row:\n",
    "        print(item, end =' ')"
   ]
  },
  {
   "cell_type": "markdown",
   "id": "c8122bc3",
   "metadata": {},
   "source": [
    "## Update, Add, and Remove an item from list"
   ]
  },
  {
   "cell_type": "markdown",
   "id": "78f13042",
   "metadata": {},
   "source": [
    "Add Banana at index 1"
   ]
  },
  {
   "cell_type": "code",
   "execution_count": 90,
   "id": "b99f52f5",
   "metadata": {},
   "outputs": [
    {
     "name": "stdout",
     "output_type": "stream",
     "text": [
      "['Apple', 'Banana', 'Orange', 'Grapes', 'Mange']\n"
     ]
    }
   ],
   "source": [
    "fruit_names[1] = 'Banana'\n",
    "print(fruit_names)"
   ]
  },
  {
   "cell_type": "markdown",
   "id": "a07eb11c",
   "metadata": {},
   "source": [
    "Insert 'Water Melon' at last index."
   ]
  },
  {
   "cell_type": "code",
   "execution_count": 91,
   "id": "a76389ce",
   "metadata": {},
   "outputs": [
    {
     "name": "stdout",
     "output_type": "stream",
     "text": [
      "['Apple', 'Banana', 'Orange', 'Grapes', 'Mange', 'Water Melon']\n"
     ]
    }
   ],
   "source": [
    "fruit_names.append('Water Melon')\n",
    "print(fruit_names)"
   ]
  },
  {
   "cell_type": "markdown",
   "id": "4eb3c4b2",
   "metadata": {},
   "source": [
    "insert 'Pine Apple' at index 2"
   ]
  },
  {
   "cell_type": "code",
   "execution_count": 92,
   "id": "122c42fa",
   "metadata": {},
   "outputs": [
    {
     "name": "stdout",
     "output_type": "stream",
     "text": [
      "['Apple', 'Banana', 'Pine Apple', 'Orange', 'Grapes', 'Mange', 'Water Melon']\n"
     ]
    }
   ],
   "source": [
    "fruit_names.insert(2, 'Pine Apple')\n",
    "print(fruit_names)"
   ]
  },
  {
   "cell_type": "markdown",
   "id": "2cbceea8",
   "metadata": {},
   "source": [
    "remove orange"
   ]
  },
  {
   "cell_type": "code",
   "execution_count": 93,
   "id": "66f8200d",
   "metadata": {},
   "outputs": [
    {
     "name": "stdout",
     "output_type": "stream",
     "text": [
      "['Apple', 'Banana', 'Pine Apple', 'Grapes', 'Mange', 'Water Melon']\n"
     ]
    }
   ],
   "source": [
    "fruit_names.remove('Orange')\n",
    "print(fruit_names)"
   ]
  },
  {
   "cell_type": "markdown",
   "id": "e5b4be80",
   "metadata": {},
   "source": [
    "remove last item"
   ]
  },
  {
   "cell_type": "code",
   "execution_count": 94,
   "id": "8f1509e3",
   "metadata": {},
   "outputs": [
    {
     "name": "stdout",
     "output_type": "stream",
     "text": [
      "['Apple', 'Banana', 'Pine Apple', 'Grapes', 'Mange']\n"
     ]
    }
   ],
   "source": [
    "fruit_names.pop()\n",
    "print(fruit_names)"
   ]
  },
  {
   "cell_type": "markdown",
   "id": "eea09635",
   "metadata": {},
   "source": [
    "remove all values in the list."
   ]
  },
  {
   "cell_type": "markdown",
   "id": "d97c3c7d",
   "metadata": {},
   "source": [
    "print(fruit_names)\n",
    "fruit_names.clear()\n",
    "print(fruit_names)"
   ]
  },
  {
   "cell_type": "code",
   "execution_count": 96,
   "id": "63c72aa7",
   "metadata": {},
   "outputs": [
    {
     "name": "stdout",
     "output_type": "stream",
     "text": [
      "2\n"
     ]
    }
   ],
   "source": [
    "#find index of a certain value\n",
    "print(fruit_names.index('Pine Apple'))"
   ]
  },
  {
   "cell_type": "code",
   "execution_count": 98,
   "id": "99aea583",
   "metadata": {},
   "outputs": [
    {
     "name": "stdout",
     "output_type": "stream",
     "text": [
      "True\n"
     ]
    }
   ],
   "source": [
    "#find if a certain number exists in a list.\n",
    "print('Pine Apple' in fruit_names)"
   ]
  },
  {
   "cell_type": "code",
   "execution_count": 99,
   "id": "e5661c4a",
   "metadata": {},
   "outputs": [
    {
     "name": "stdout",
     "output_type": "stream",
     "text": [
      "2\n"
     ]
    }
   ],
   "source": [
    "#add a number or string in the list. \n",
    "\n",
    "fruit_names.append('Pine Apple')\n",
    "print(fruit_names.count('Pine Apple'))"
   ]
  },
  {
   "cell_type": "code",
   "execution_count": 100,
   "id": "a26bc0d3",
   "metadata": {},
   "outputs": [
    {
     "name": "stdout",
     "output_type": "stream",
     "text": [
      "[7, 5, 5, 4, 2, 1]\n"
     ]
    }
   ],
   "source": [
    "#sort the items in the list.\n",
    "\n",
    "numbers = [5,2,1,5,7,4]\n",
    "numbers.sort() #sorts the items in ascending order\n",
    "numbers.reverse() #sorts the items in reverse order. \n",
    "print(numbers)"
   ]
  },
  {
   "cell_type": "code",
   "execution_count": 105,
   "id": "cecb84f5",
   "metadata": {},
   "outputs": [
    {
     "name": "stdout",
     "output_type": "stream",
     "text": [
      "[1, 2, 4, 5, 5, 7]\n"
     ]
    }
   ],
   "source": [
    "numbers.reverse() #sorts the items in reverse order. \n",
    "print(numbers)"
   ]
  },
  {
   "cell_type": "code",
   "execution_count": 107,
   "id": "0cbc9a39",
   "metadata": {},
   "outputs": [
    {
     "name": "stdout",
     "output_type": "stream",
     "text": [
      "[1, 2, 4, 5, 5, 7]\n",
      "[1, 2, 4, 5, 5, 7, 5]\n"
     ]
    }
   ],
   "source": [
    "#create a copy of the list.\n",
    "\n",
    "numbers2 = numbers.copy()\n",
    "numbers2.append(5)\n",
    "\n",
    "print(numbers)\n",
    "print(numbers2)"
   ]
  },
  {
   "cell_type": "code",
   "execution_count": 190,
   "id": "2070dacf",
   "metadata": {},
   "outputs": [
    {
     "name": "stdout",
     "output_type": "stream",
     "text": [
      "This number will be popped also 1\n",
      "This number will be popped also 2\n",
      "This number will be popped also 5\n",
      "This number will be popped also 5\n",
      "This number will be popped also 7\n",
      "[1, 2, 4, 5, 7]\n"
     ]
    }
   ],
   "source": [
    "numbers2 = [1, 2, 4, 5, 5, 2, 1, 7, 7, 5]\n",
    "l = len(numbers2)\n",
    "numbers2.sort()\n",
    "for n in numbers2: #n here represents each value one by one.nu..\n",
    "    while numbers2.count(n) > 1:\n",
    "        numbers2.pop(numbers2.index(n))\n",
    "        print(\"This number will be popped also\", n)\n",
    "        \n",
    "print(numbers2)"
   ]
  },
  {
   "cell_type": "code",
   "execution_count": 186,
   "id": "08dafa00",
   "metadata": {},
   "outputs": [
    {
     "name": "stdout",
     "output_type": "stream",
     "text": [
      "[1, 2, 4, 5, 5, 2, 1, 7, 7, 5]\n",
      "{1, 2, 4, 5, 7}\n",
      "[1, 2, 4, 5, 7]\n"
     ]
    }
   ],
   "source": [
    "#removing duplicates by converting list into set. \n",
    "numbers2 = [1, 2, 4, 5, 5, 2, 1, 7, 7, 5]\n",
    "print(numbers2)\n",
    "numbers2 = set(numbers2)\n",
    "print(numbers2)\n",
    "numbers2 = list(numbers2)\n",
    "print(numbers2)"
   ]
  },
  {
   "cell_type": "code",
   "execution_count": 187,
   "id": "ed4fb054",
   "metadata": {},
   "outputs": [
    {
     "ename": "NameError",
     "evalue": "name 'OrderedDict' is not defined",
     "output_type": "error",
     "traceback": [
      "\u001b[1;31m---------------------------------------------------------------------------\u001b[0m",
      "\u001b[1;31mNameError\u001b[0m                                 Traceback (most recent call last)",
      "Input \u001b[1;32mIn [187]\u001b[0m, in \u001b[0;36m<cell line: 4>\u001b[1;34m()\u001b[0m\n\u001b[0;32m      1\u001b[0m \u001b[38;5;66;03m#removing duplicates by converting list into set. \u001b[39;00m\n\u001b[0;32m      2\u001b[0m numbers2 \u001b[38;5;241m=\u001b[39m [\u001b[38;5;241m1\u001b[39m, \u001b[38;5;241m2\u001b[39m, \u001b[38;5;241m4\u001b[39m, \u001b[38;5;241m5\u001b[39m, \u001b[38;5;241m5\u001b[39m, \u001b[38;5;241m2\u001b[39m, \u001b[38;5;241m1\u001b[39m, \u001b[38;5;241m7\u001b[39m, \u001b[38;5;241m7\u001b[39m, \u001b[38;5;241m5\u001b[39m]\n\u001b[1;32m----> 4\u001b[0m \u001b[43mOrderedDict\u001b[49m\u001b[38;5;241m.\u001b[39mfromkeys(numbers2)\n",
      "\u001b[1;31mNameError\u001b[0m: name 'OrderedDict' is not defined"
     ]
    }
   ],
   "source": [
    "#removing duplicates by converting list into set. \n",
    "numbers2 = [1, 2, 4, 5, 5, 2, 1, 7, 7, 5]\n",
    "\n",
    "OrderedDict.fromkeys(numbers2)"
   ]
  },
  {
   "cell_type": "markdown",
   "id": "f2d70144",
   "metadata": {},
   "source": [
    "### How to apply loop"
   ]
  },
  {
   "cell_type": "code",
   "execution_count": null,
   "id": "31a8b505",
   "metadata": {},
   "outputs": [],
   "source": []
  },
  {
   "cell_type": "code",
   "execution_count": 27,
   "id": "a573d9d1",
   "metadata": {},
   "outputs": [],
   "source": [
    "test_list =['test', 12, 30.50, True, fruit_names]"
   ]
  },
  {
   "cell_type": "code",
   "execution_count": 28,
   "id": "f0f3b6f8",
   "metadata": {},
   "outputs": [
    {
     "name": "stdout",
     "output_type": "stream",
     "text": [
      "120\n",
      "200\n",
      "150\n",
      "220\n",
      "100\n"
     ]
    }
   ],
   "source": [
    "for m in marks:\n",
    "    print(m)"
   ]
  },
  {
   "cell_type": "code",
   "execution_count": 30,
   "id": "071c7288",
   "metadata": {},
   "outputs": [
    {
     "name": "stdout",
     "output_type": "stream",
     "text": [
      "120\n",
      "200\n",
      "150\n",
      "220\n",
      "100\n"
     ]
    }
   ],
   "source": [
    "l = len(marks)\n",
    "i = 0\n",
    "while i<l:\n",
    "    print(marks[i])\n",
    "    i+= 1"
   ]
  },
  {
   "cell_type": "markdown",
   "id": "7c20f1f8",
   "metadata": {},
   "source": [
    "### Find Max Number"
   ]
  },
  {
   "cell_type": "code",
   "execution_count": 31,
   "id": "87466387",
   "metadata": {},
   "outputs": [
    {
     "name": "stdout",
     "output_type": "stream",
     "text": [
      "220\n"
     ]
    }
   ],
   "source": [
    "max = marks[0]\n",
    "for m in marks:\n",
    "    if m>max:\n",
    "        max = m\n",
    "        \n",
    "print(max)"
   ]
  },
  {
   "cell_type": "markdown",
   "id": "345eb760",
   "metadata": {},
   "source": [
    "### List Compression\n",
    "newlist = [expression for item in iterable if condition == True]"
   ]
  },
  {
   "cell_type": "code",
   "execution_count": 32,
   "id": "061f197c",
   "metadata": {},
   "outputs": [],
   "source": [
    "numbers = [20,50,68,89,100,119,34,8,19]"
   ]
  },
  {
   "cell_type": "markdown",
   "id": "98ec0238",
   "metadata": {},
   "source": [
    "make a list with even numbers from 'numbers"
   ]
  },
  {
   "cell_type": "code",
   "execution_count": 33,
   "id": "17c0b82f",
   "metadata": {},
   "outputs": [
    {
     "name": "stdout",
     "output_type": "stream",
     "text": [
      "[20, 50, 68, 100, 34, 8]\n"
     ]
    }
   ],
   "source": [
    "even = []\n",
    "for n in numbers: \n",
    "    if n % 2 == 0:\n",
    "        even.append(n)\n",
    "print(even)"
   ]
  },
  {
   "cell_type": "code",
   "execution_count": 36,
   "id": "88c163a5",
   "metadata": {},
   "outputs": [
    {
     "name": "stdout",
     "output_type": "stream",
     "text": [
      "[20, 50, 68, 100, 34, 8]\n"
     ]
    }
   ],
   "source": [
    "#Iterable form\n",
    "even = [m for m in numbers if m % 2 == 0]      #print what is before for if the condition is true.\n",
    "print(even)"
   ]
  },
  {
   "cell_type": "markdown",
   "id": "c34f2151",
   "metadata": {},
   "source": [
    "## Tuples"
   ]
  },
  {
   "cell_type": "markdown",
   "id": "9faea05e",
   "metadata": {},
   "source": [
    "Properties:\n",
    "Order of items cannot be changed.\n",
    "Items are indexed.\n",
    "Tuple is immutable. \n",
    "it can include duplicates.\n",
    "It is used for items that don't change, like month names, and week days. "
   ]
  },
  {
   "cell_type": "code",
   "execution_count": 54,
   "id": "f4d9212d",
   "metadata": {},
   "outputs": [],
   "source": [
    "weekdays = ('Mon', 'Tue', 'Wed', 'Thur', 'Fri', 'Sat', 'Sun')"
   ]
  },
  {
   "cell_type": "code",
   "execution_count": 38,
   "id": "61cae8bd",
   "metadata": {},
   "outputs": [
    {
     "name": "stdout",
     "output_type": "stream",
     "text": [
      "('Mon', 'Tue', 'Wed', 'Thur', 'Fri', 'Sat', 'Sun')\n",
      "<class 'tuple'>\n"
     ]
    }
   ],
   "source": [
    "print(weekdays)\n",
    "print(type(weekdays))"
   ]
  },
  {
   "cell_type": "code",
   "execution_count": null,
   "id": "8815c25f",
   "metadata": {},
   "outputs": [],
   "source": [
    "#Slicing is same in all."
   ]
  },
  {
   "cell_type": "code",
   "execution_count": null,
   "id": "5b5f56d9",
   "metadata": {},
   "outputs": [],
   "source": [
    "# only one item in the tuple, give a comma\n",
    "country_list = ('Pakistan',)"
   ]
  },
  {
   "cell_type": "code",
   "execution_count": 39,
   "id": "5401b350",
   "metadata": {},
   "outputs": [],
   "source": [
    "# len shows number of items"
   ]
  },
  {
   "cell_type": "markdown",
   "id": "e06ed270",
   "metadata": {},
   "source": [
    "## Tuple Constructor"
   ]
  },
  {
   "cell_type": "code",
   "execution_count": 40,
   "id": "ee2c0abc",
   "metadata": {},
   "outputs": [],
   "source": [
    "months = tuple(('Jan','Feb','Mar'))"
   ]
  },
  {
   "cell_type": "markdown",
   "id": "f23ab760",
   "metadata": {},
   "source": [
    "## Update, Add, Remove\n",
    "In order to update, add, or remove from Tuple, convert it to list first."
   ]
  },
  {
   "cell_type": "code",
   "execution_count": 53,
   "id": "0d586c94",
   "metadata": {},
   "outputs": [
    {
     "ename": "SyntaxError",
     "evalue": "invalid syntax (1615327898.py, line 3)",
     "output_type": "error",
     "traceback": [
      "\u001b[1;36m  Input \u001b[1;32mIn [53]\u001b[1;36m\u001b[0m\n\u001b[1;33m    weekdays_list.del[5]\u001b[0m\n\u001b[1;37m                  ^\u001b[0m\n\u001b[1;31mSyntaxError\u001b[0m\u001b[1;31m:\u001b[0m invalid syntax\n"
     ]
    }
   ],
   "source": [
    "weekdays_list = list(weekdays)\n",
    "print(type(weekdays_list))\n",
    "weekdays_list.append(\"Sat\")\n",
    "print(weekdays_list)\n",
    "weekdays = tuple(weekdays_list)\n",
    "print(weekdays)\n",
    "print(type())"
   ]
  },
  {
   "cell_type": "code",
   "execution_count": null,
   "id": "3e4a1436",
   "metadata": {},
   "outputs": [],
   "source": []
  },
  {
   "cell_type": "code",
   "execution_count": null,
   "id": "464270fa",
   "metadata": {},
   "outputs": [],
   "source": []
  },
  {
   "cell_type": "markdown",
   "id": "397f17d9",
   "metadata": {},
   "source": [
    "#Addition of two tuples can be done."
   ]
  },
  {
   "cell_type": "code",
   "execution_count": 50,
   "id": "588ba647",
   "metadata": {},
   "outputs": [
    {
     "name": "stdout",
     "output_type": "stream",
     "text": [
      "('Jan', 'Feb', 'Mar', 'Apr', 'May', 'Jan')\n",
      "<class 'tuple'>\n"
     ]
    }
   ],
   "source": [
    "month1 = tuple(('Jan', 'Feb', 'Mar'))\n",
    "month2 = tuple(('Apr', 'May', 'Jan'))\n",
    "months = month1 + month2\n",
    "print(months)\n",
    "print(type(months))"
   ]
  },
  {
   "cell_type": "markdown",
   "id": "ece81d78",
   "metadata": {},
   "source": [
    "## Unpacking:\n",
    "\n",
    "It is like giving index values"
   ]
  },
  {
   "cell_type": "code",
   "execution_count": 55,
   "id": "df6f845c",
   "metadata": {},
   "outputs": [
    {
     "name": "stdout",
     "output_type": "stream",
     "text": [
      "Mon\n",
      "Tue\n",
      "Fri\n"
     ]
    }
   ],
   "source": [
    "(day1, day2, day3, day4, day5, day6, day7) = weekdays\n",
    "print(day1)\n",
    "print(day2)\n",
    "print(day5)"
   ]
  },
  {
   "cell_type": "markdown",
   "id": "ca3ea8b7",
   "metadata": {},
   "source": [
    "## Sets"
   ]
  },
  {
   "cell_type": "markdown",
   "id": "19015f61",
   "metadata": {},
   "source": [
    "used to show collection of data\n",
    "It is not ordered/indexed\n",
    "It is unchangeable, but new item can be added and previous item can be removed.\n",
    "Duplicates are not allowed."
   ]
  },
  {
   "cell_type": "raw",
   "id": "390d9317",
   "metadata": {},
   "source": [
    "add\n",
    "clear\n",
    "copy\n",
    "difference\n",
    "difference_update\n",
    "discard\n",
    "intersection\n",
    "intersection_update\n",
    "indisjoint\n",
    "issubset\n",
    "sisuperset\n",
    "pop\n",
    "remove\n",
    "symmetric_difference\n",
    "ymmetric_difference_update\n",
    "union\n",
    "update"
   ]
  },
  {
   "cell_type": "code",
   "execution_count": 59,
   "id": "beaeb3f2",
   "metadata": {},
   "outputs": [
    {
     "name": "stdout",
     "output_type": "stream",
     "text": [
      "<class 'set'>\n",
      "{'USA', 'Canada', 'Pakistan'}\n"
     ]
    }
   ],
   "source": [
    "country_name = {'Pakistan', 'USA', 'Canada'}\n",
    "print(type(country_name))\n",
    "print(country_name)"
   ]
  },
  {
   "cell_type": "code",
   "execution_count": 60,
   "id": "9fd207f4",
   "metadata": {},
   "outputs": [
    {
     "name": "stdout",
     "output_type": "stream",
     "text": [
      "{'USA', 'Canada', 'Pakistan', 'Japan'}\n",
      "{'USA', 'Pakistan', 'Japan'}\n"
     ]
    }
   ],
   "source": [
    "country_name.add(\"Japan\")\n",
    "print(country_name)\n",
    "country_name.remove(\"Canada\")\n",
    "print(country_name)"
   ]
  },
  {
   "cell_type": "code",
   "execution_count": null,
   "id": "ec5b542e",
   "metadata": {},
   "outputs": [],
   "source": []
  }
 ],
 "metadata": {
  "kernelspec": {
   "display_name": "Python 3 (ipykernel)",
   "language": "python",
   "name": "python3"
  },
  "language_info": {
   "codemirror_mode": {
    "name": "ipython",
    "version": 3
   },
   "file_extension": ".py",
   "mimetype": "text/x-python",
   "name": "python",
   "nbconvert_exporter": "python",
   "pygments_lexer": "ipython3",
   "version": "3.9.12"
  }
 },
 "nbformat": 4,
 "nbformat_minor": 5
}
