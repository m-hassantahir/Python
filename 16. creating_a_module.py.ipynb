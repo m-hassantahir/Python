{
 "cells": [
  {
   "cell_type": "code",
   "execution_count": null,
   "id": "a5886357",
   "metadata": {},
   "outputs": [],
   "source": [
    "def lbs_to_kg(weight):\n",
    "    return weight *0.45\n",
    "\n",
    "\n",
    "def kg_to_lbs(weight):\n",
    "    return weight / 0.45"
   ]
  }
 ],
 "metadata": {
  "kernelspec": {
   "display_name": "Python 3 (ipykernel)",
   "language": "python",
   "name": "python3"
  },
  "language_info": {
   "codemirror_mode": {
    "name": "ipython",
    "version": 3
   },
   "file_extension": ".py",
   "mimetype": "text/x-python",
   "name": "python",
   "nbconvert_exporter": "python",
   "pygments_lexer": "ipython3",
   "version": "3.11.4"
  }
 },
 "nbformat": 4,
 "nbformat_minor": 5
}
