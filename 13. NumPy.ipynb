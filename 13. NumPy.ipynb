{
 "cells": [
  {
   "cell_type": "code",
   "execution_count": null,
   "id": "e21c085a",
   "metadata": {},
   "outputs": [],
   "source": [
    "Numpy uses arrays.\n",
    "all elements in arrays should have same data type. \n"
   ]
  },
  {
   "cell_type": "code",
   "execution_count": 1,
   "id": "eda9c6ca",
   "metadata": {},
   "outputs": [
    {
     "name": "stdout",
     "output_type": "stream",
     "text": [
      "[ 1 10 20 40 50 45 34]\n",
      "<class 'numpy.ndarray'>\n",
      "[10 20]\n"
     ]
    }
   ],
   "source": [
    "import numpy as nd\n",
    "#create an array\n",
    "my_array = nd.array([1,10,20,40,50,45,34])\n",
    "#print array in the same way\n",
    "print(my_array)\n",
    "#get type in the same way\n",
    "print(type(my_array))\n",
    "#do slicing in the same way\n",
    "print(my_array[1:3])"
   ]
  },
  {
   "cell_type": "code",
   "execution_count": 2,
   "id": "5c36f377",
   "metadata": {},
   "outputs": [
    {
     "name": "stdout",
     "output_type": "stream",
     "text": [
      "int32\n"
     ]
    }
   ],
   "source": [
    "#find data type. Data type is the type of data included in the array.\n",
    "print(my_array.dtype)"
   ]
  },
  {
   "cell_type": "code",
   "execution_count": 4,
   "id": "0ff18005",
   "metadata": {},
   "outputs": [
    {
     "name": "stdout",
     "output_type": "stream",
     "text": [
      "[  1  10 200  40  50  45  34]\n"
     ]
    }
   ],
   "source": [
    "#update: Similar to list.\n",
    "my_array[2] = 200\n",
    "print(my_array)"
   ]
  },
  {
   "cell_type": "code",
   "execution_count": 5,
   "id": "e0cd24d2",
   "metadata": {},
   "outputs": [
    {
     "name": "stdout",
     "output_type": "stream",
     "text": [
      "[[ 1  2  3  4  5]\n",
      " [11 12 13 14 15]\n",
      " [21 22 23 24 25]]\n"
     ]
    }
   ],
   "source": [
    "#Multidimensional Arrays: Similar to list.\n",
    "my_array_2 = nd.array([ [1,2,3,4,5], [11,12,13,14,15],[21,22,23,24,25]])\n",
    "print(my_array_2)"
   ]
  },
  {
   "cell_type": "raw",
   "id": "986df8fc",
   "metadata": {},
   "source": [
    "#how to get data from multiple arrays.\n",
    "rows and column numbers start from 0.\n",
    "select rows first, then column."
   ]
  },
  {
   "cell_type": "code",
   "execution_count": 7,
   "id": "437b2bbd",
   "metadata": {},
   "outputs": [
    {
     "name": "stdout",
     "output_type": "stream",
     "text": [
      "2\n"
     ]
    }
   ],
   "source": [
    "print(my_array_2[0,1])"
   ]
  },
  {
   "cell_type": "code",
   "execution_count": 10,
   "id": "76a58c55",
   "metadata": {},
   "outputs": [
    {
     "name": "stdout",
     "output_type": "stream",
     "text": [
      "[[ 2  3]\n",
      " [12 13]]\n"
     ]
    }
   ],
   "source": [
    "#slicing\n",
    "print(my_array_2[0:2, 1:3])"
   ]
  },
  {
   "cell_type": "code",
   "execution_count": 12,
   "id": "36a92ea1",
   "metadata": {},
   "outputs": [
    {
     "name": "stdout",
     "output_type": "stream",
     "text": [
      "(3, 5)\n"
     ]
    }
   ],
   "source": [
    "#finding shape of arrays. \n",
    "print(my_array_2.shape)"
   ]
  },
  {
   "cell_type": "code",
   "execution_count": 13,
   "id": "d7af36ce",
   "metadata": {},
   "outputs": [
    {
     "name": "stdout",
     "output_type": "stream",
     "text": [
      "[[ 1  2  3]\n",
      " [ 4  5 11]\n",
      " [12 13 14]\n",
      " [15 21 22]\n",
      " [23 24 25]]\n"
     ]
    }
   ],
   "source": [
    "#how to do reshape\n",
    "print(my_array_2.reshape(5,3))"
   ]
  },
  {
   "cell_type": "code",
   "execution_count": 14,
   "id": "2d818ffc",
   "metadata": {},
   "outputs": [
    {
     "name": "stdout",
     "output_type": "stream",
     "text": [
      "[[ True  True  True  True  True]\n",
      " [ True  True  True  True  True]\n",
      " [False False False False False]]\n"
     ]
    }
   ],
   "source": [
    "print(my_array_2 <20)"
   ]
  },
  {
   "cell_type": "code",
   "execution_count": 16,
   "id": "d842428f",
   "metadata": {},
   "outputs": [
    {
     "name": "stdout",
     "output_type": "stream",
     "text": [
      "[ 1  2  3  4  5 11 12 13 14 15]\n"
     ]
    }
   ],
   "source": [
    "print(my_array_2[my_array_2 <20])"
   ]
  },
  {
   "cell_type": "code",
   "execution_count": 17,
   "id": "6cb7ffaa",
   "metadata": {},
   "outputs": [
    {
     "name": "stdout",
     "output_type": "stream",
     "text": [
      "[  1   2   3   4   5   6   7   8   9  10  11  12  13  14  15  16  17  18\n",
      "  19  20  21  22  23  24  25  26  27  28  29  30  31  32  33  34  35  36\n",
      "  37  38  39  40  41  42  43  44  45  46  47  48  49  50  51  52  53  54\n",
      "  55  56  57  58  59  60  61  62  63  64  65  66  67  68  69  70  71  72\n",
      "  73  74  75  76  77  78  79  80  81  82  83  84  85  86  87  88  89  90\n",
      "  91  92  93  94  95  96  97  98  99 100]\n"
     ]
    }
   ],
   "source": [
    "#make an array from 1 till 100\n",
    "arr2 = nd.arange(1,101)\n",
    "print(arr2)"
   ]
  },
  {
   "cell_type": "code",
   "execution_count": null,
   "id": "368edd5c",
   "metadata": {},
   "outputs": [],
   "source": []
  }
 ],
 "metadata": {
  "kernelspec": {
   "display_name": "Python 3 (ipykernel)",
   "language": "python",
   "name": "python3"
  },
  "language_info": {
   "codemirror_mode": {
    "name": "ipython",
    "version": 3
   },
   "file_extension": ".py",
   "mimetype": "text/x-python",
   "name": "python",
   "nbconvert_exporter": "python",
   "pygments_lexer": "ipython3",
   "version": "3.9.12"
  }
 },
 "nbformat": 4,
 "nbformat_minor": 5
}
