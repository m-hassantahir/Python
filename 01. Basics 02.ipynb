{
 "cells": [
  {
   "cell_type": "markdown",
   "id": "ea056fbd",
   "metadata": {},
   "source": [
    "# Python Tutorial - Python Full Course for Beginners\n",
    "https://www.youtube.com/watch?v=_uQrJ0TkZlc\n",
    "\n",
    "#### 1. Code Editor:\n",
    "Pycharm.\n",
    "IDE: Integrated Development Environment"
   ]
  },
  {
   "cell_type": "markdown",
   "id": "f657cd73",
   "metadata": {},
   "source": [
    "#### 2. Specializations\n",
    "##### Web Development:\n",
    "    HTML, CSS, Java Script, Django\n",
    "##### Desktop Allications:\n",
    "##### Machine Learning / Artificial Intelligence"
   ]
  },
  {
   "cell_type": "markdown",
   "id": "4c6c6c0a",
   "metadata": {},
   "source": [
    "#### Variables\n",
    "    ##### Integers\n",
    "    ##### Floats\n",
    "    ##### String\n",
    "    ##### Boolean"
   ]
  },
  {
   "cell_type": "markdown",
   "id": "875b77e3",
   "metadata": {},
   "source": [
    "#### Getting Input\n",
    "name = input('What is your name? ')\n",
    "print('Hi ' + name)"
   ]
  },
  {
   "cell_type": "code",
   "execution_count": 1,
   "id": "918d57e4",
   "metadata": {},
   "outputs": [
    {
     "name": "stdout",
     "output_type": "stream",
     "text": [
      "What is your name? Saleem\n",
      "Hi Saleem\n"
     ]
    }
   ],
   "source": [
    "name = input('What is your name? ') \n",
    "print('Hi ' + name)"
   ]
  },
  {
   "cell_type": "code",
   "execution_count": 3,
   "id": "f0294d1e",
   "metadata": {},
   "outputs": [
    {
     "name": "stdout",
     "output_type": "stream",
     "text": [
      "What is your name? Hassan\n",
      "What is your favourite colour? Maroon\n",
      "Hassan likes Maroon\n"
     ]
    }
   ],
   "source": [
    "#Exercise: Ask two questions: Person's name and favourite color. Then, print a message like \"Mosh likes blue\"\n",
    "\n",
    "name = input('What is your name? ')\n",
    "favourite_colour  = input('What is your favourite colour? ')\n",
    "print(name + ' likes ' + favourite_colour)"
   ]
  },
  {
   "cell_type": "markdown",
   "id": "ae587c75",
   "metadata": {},
   "source": [
    "*Any value in input will be recorded as string. "
   ]
  },
  {
   "cell_type": "markdown",
   "id": "2ed42395",
   "metadata": {},
   "source": [
    "#Ask a user their weight (in pounds), convert it to kilograms and print on the terminal."
   ]
  },
  {
   "cell_type": "markdown",
   "id": "0ef3a435",
   "metadata": {},
   "source": [
    "#### Strings\n",
    "course = 'Python for \"Beginners\"'\n",
    "course = \"Python course's for beginners\"\n",
    "course = ''' \n",
    "Hi John, \n",
    "Here is our first email to you.\n",
    "THank you,\n",
    "The Support Team.'''\n",
    "\n",
    "###### Index\n",
    "print(course[0]) \n",
    "print(course[0:3])\n",
    "\n",
    "#### Formatted Strings\n",
    "first = 'John'\n",
    "last = 'Smith'\n",
    "msg = f'{first} [{last}] is a coder'\n",
    "\n",
    "#### String Methods\n",
    "len()\n",
    "course = 'Python for beginners'\n",
    "course.upper()\n",
    "course.lower()\n",
    "course.title()\n",
    "course.find('B')\n",
    "course.replace('Beginners', 'Absolute Beginners')\n",
    "'Python' in course\n",
    "\n",
    "#### Arithematic Operators\n",
    "/ float\n",
    "// int\n",
    "% modulus\n",
    "** Power\n",
    "+= Augmented assignment operator\n",
    "\n",
    "#### Operator Precedence\n",
    "order of operation. \n",
    "parenthesis\n",
    "explonetiation\n",
    "division & multiplication\n",
    "addition & subtract\n",
    "\n",
    "#### Math Functions\n",
    "x = 2.9\n",
    "print(round(x)) round the float\n",
    "print(abs(x)) absolute value\n",
    "Import math\n",
    "\n",
    "When you have to learn about a module. just go to google. open python math module. go to wikipedia. and read about the functions available in math module. \n",
    "\n",
    "#### If Statements\n",
    "is_hot = True\n",
    "is_cold = True\n",
    "if is_hot:\n",
    "    print(\"It's a hot day\")\n",
    "    print(\"Drink plenty of water\")\n",
    "elif is_cold:\n",
    "    print(\"It's a cold day\")\n",
    "    print(\"Wear warm clothes\")\n",
    "else:\n",
    "    print(\"It's a lovely day\")\n",
    "print(\"Enjoy your day\")"
   ]
  },
  {
   "cell_type": "code",
   "execution_count": 30,
   "id": "89894f7c",
   "metadata": {},
   "outputs": [
    {
     "name": "stdout",
     "output_type": "stream",
     "text": [
      "Down Payment is $100000\n"
     ]
    }
   ],
   "source": [
    "#Example: Price of a house is $1M. \n",
    "#If buyer has good credit, they need to put down 10%. \n",
    "#Otherwise, they need to put down 20%. ###\n",
    "\n",
    "price = int(1000000)\n",
    "\n",
    "good_credit = True\n",
    "#if good_credit:\n",
    "#    print(price - (price*(10/100)))\n",
    "#else:\n",
    "#    print(price - (price*(20/100)))\n",
    "    \n",
    "# Solution of Mosh\n",
    "\n",
    "if good_credit:\n",
    "    down_payment = 0.1 * price\n",
    "else:\n",
    "    down_payment = 0.2 * price\n",
    "print(f'Down Payment is ${int(down_payment)}')"
   ]
  },
  {
   "cell_type": "markdown",
   "id": "b9c59d02",
   "metadata": {},
   "source": [
    "#### Logical Operators\n",
    "\n",
    "If applicant has high income AND/OR good credit. He is eligible for loan. "
   ]
  },
  {
   "cell_type": "code",
   "execution_count": 1,
   "id": "1df63d89",
   "metadata": {},
   "outputs": [
    {
     "name": "stdout",
     "output_type": "stream",
     "text": [
      "Elibible for loan\n"
     ]
    }
   ],
   "source": [
    "has_high_income = True\n",
    "has_good_credit = True\n",
    "\n",
    "if has_high_income and has_good_credit:\n",
    "    print(\"Elibible for loan\")\n",
    "else:\n",
    "    print(\"Not eligible for loan\")"
   ]
  },
  {
   "cell_type": "markdown",
   "id": "81f4914e",
   "metadata": {},
   "source": [
    "iff applicant has good credit and doesn't have criminal record."
   ]
  },
  {
   "cell_type": "code",
   "execution_count": 3,
   "id": "7a6ce072",
   "metadata": {},
   "outputs": [],
   "source": [
    "has_good_credit = True\n",
    "has_criminal_record = True\n",
    "if has_good_credit and not has_criminal_record:\n",
    "    print(\"Eligible for loan\")\n"
   ]
  },
  {
   "cell_type": "markdown",
   "id": "676d9129",
   "metadata": {},
   "source": [
    "#### Comparison Operators\n",
    "\n",
    ">\n",
    ">=\n",
    "<\n",
    "<=\n",
    "==\n",
    "!=\n",
    "\n",
    "if temperature is greater than 30, it is a hot day.\n",
    "Otherwise if it's less than 10, it's a cold day.\n",
    "Otherwise, it's neither hot nor cold\n"
   ]
  },
  {
   "cell_type": "code",
   "execution_count": 4,
   "id": "3aeeef2e",
   "metadata": {},
   "outputs": [
    {
     "name": "stdout",
     "output_type": "stream",
     "text": [
      "It's not a hot day\n"
     ]
    }
   ],
   "source": [
    "temperature = 30\n",
    "if temperature > 30:\n",
    "    print(\"It's a hot day\")\n",
    "    \n",
    "else: \n",
    "    print(\"It's not a hot day\")"
   ]
  },
  {
   "cell_type": "raw",
   "id": "1d62419b",
   "metadata": {},
   "source": [
    "Example: if name is less than 3 characters long, name must be at least 3 characters\n",
    "Otherwise, if it's more than 50 characters long, name can be a masimum of 50 characters.\n",
    "Otherwise, name looks good!"
   ]
  },
  {
   "cell_type": "code",
   "execution_count": 6,
   "id": "adf1395b",
   "metadata": {},
   "outputs": [
    {
     "name": "stdout",
     "output_type": "stream",
     "text": [
      "Please write a name.MH\n",
      "name must be at least 3 characters\n"
     ]
    }
   ],
   "source": [
    "name = input(\"Please write a name.\")\n",
    "l = len(name)\n",
    "if l < 3:\n",
    "    print(\"name must be at least 3 characters\")\n",
    "elif l > 50:\n",
    "    print(\"name can be a maximum of 50 characters\")\n",
    "else:\n",
    "    print(\"name looks good!\")"
   ]
  },
  {
   "cell_type": "code",
   "execution_count": null,
   "id": "756667f5",
   "metadata": {},
   "outputs": [],
   "source": [
    "Example: Weight Calculator "
   ]
  }
 ],
 "metadata": {
  "kernelspec": {
   "display_name": "Python 3 (ipykernel)",
   "language": "python",
   "name": "python3"
  },
  "language_info": {
   "codemirror_mode": {
    "name": "ipython",
    "version": 3
   },
   "file_extension": ".py",
   "mimetype": "text/x-python",
   "name": "python",
   "nbconvert_exporter": "python",
   "pygments_lexer": "ipython3",
   "version": "3.11.4"
  }
 },
 "nbformat": 4,
 "nbformat_minor": 5
}
