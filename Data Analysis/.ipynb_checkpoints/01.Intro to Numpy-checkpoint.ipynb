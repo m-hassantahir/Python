{
 "cells": [
  {
   "cell_type": "markdown",
   "id": "c37146be",
   "metadata": {},
   "source": [
    "1. Basic Numpy Arrays           - creating, copy, descending\n",
    "2. Data Types                   - conversions\n",
    "3. Dimensions & Shapes\n",
    "4. Summary Statistics           - Sum, Mean, Std.\n",
    "5. Broadcasting & Vectorization - A*B,\n",
    "6. Boolean Arrays               - with loops (for matrices)\n",
    "7. Useful Numpy Functions       - A*B, A.T, A.dot(B)\n",
    "    a) Random                   -random.randint, random.random, random.rand, random.normal, random.randn\n",
    "    b) Arange                   -arange(total range), arange(start range, end range, interval difference)\n",
    "    c) Linspace\n",
    "    d) Zeros, Ones, Empty\n",
    "    e) Indentity and Eye\n",
    "    f) Make a similar array\n",
    "8. Performance Efficiency with Numpy\n",
    "9. Data Distribution & Plotting  -np.random.choice, np.random.shuffle, np.random.permutation, \n",
    "                                 -seaborn"
   ]
  },
  {
   "cell_type": "markdown",
   "id": "a3a27ffa",
   "metadata": {},
   "source": [
    "## Basic Numpy Arrays"
   ]
  },
  {
   "cell_type": "code",
   "execution_count": 6,
   "id": "a76a89ed",
   "metadata": {},
   "outputs": [],
   "source": [
    "import numpy as np"
   ]
  },
  {
   "cell_type": "code",
   "execution_count": 54,
   "id": "41330997",
   "metadata": {},
   "outputs": [],
   "source": [
    "#creating an array using Numpy\n",
    "a = np.array([1,2,3,4])\n",
    "b = np.array([0,.5,1,1.5,2])"
   ]
  },
  {
   "cell_type": "code",
   "execution_count": 55,
   "id": "12503d99",
   "metadata": {},
   "outputs": [
    {
     "data": {
      "text/plain": [
       "array([0. , 0.5, 1. , 1.5, 2. ])"
      ]
     },
     "execution_count": 55,
     "metadata": {},
     "output_type": "execute_result"
    }
   ],
   "source": [
    "#copy a numpy array\n",
    "c = np.copy(b)\n",
    "c"
   ]
  },
  {
   "cell_type": "code",
   "execution_count": 8,
   "id": "c23aa35c",
   "metadata": {},
   "outputs": [
    {
     "name": "stdout",
     "output_type": "stream",
     "text": [
      "1 4 0.0 0.5 1.5 "
     ]
    }
   ],
   "source": [
    "#selecting an item in an array. similar.\n",
    "print(a[0],end= \" \") \n",
    "print(a[-1],end= \" \")\n",
    "print(b[0],end= \" \")\n",
    "print(b[1],end= \" \")\n",
    "print(b[-2],end= \" \")"
   ]
  },
  {
   "cell_type": "code",
   "execution_count": 39,
   "id": "0efbae50",
   "metadata": {},
   "outputs": [
    {
     "data": {
      "text/plain": [
       "array([0., 1., 2.])"
      ]
     },
     "execution_count": 39,
     "metadata": {},
     "output_type": "execute_result"
    }
   ],
   "source": [
    "#multi-indexing\n",
    "b[[0, 2, -1]] #The result is going to be another numpy array."
   ]
  },
  {
   "cell_type": "code",
   "execution_count": 59,
   "id": "a9a881c4",
   "metadata": {},
   "outputs": [
    {
     "name": "stdout",
     "output_type": "stream",
     "text": [
      "[0.  0.5 1.  1.5 2. ]\n"
     ]
    },
    {
     "data": {
      "text/plain": [
       "array([2. , 1.5, 1. , 0.5, 0. ])"
      ]
     },
     "execution_count": 59,
     "metadata": {},
     "output_type": "execute_result"
    }
   ],
   "source": [
    "#Showing numpy array in descinding order.\n",
    "\n",
    "b = np.array([0,.5,1,1.5,2])\n",
    "print(b)\n",
    "b[::-1]"
   ]
  },
  {
   "cell_type": "markdown",
   "id": "a3b41e5c",
   "metadata": {},
   "source": [
    "## Data Types:"
   ]
  },
  {
   "cell_type": "markdown",
   "id": "bc65b6c6",
   "metadata": {},
   "source": [
    "There are 5 basic numerical types:\n",
    "1. booleans (bool), bool\n",
    "2. integers (int), int8, int16, int32, int64, int\n",
    "3. unsigned integers (uint)  > <U1\n",
    "4. floating point (float) > float / float64 \n",
    "5. complex > O\n"
   ]
  },
  {
   "cell_type": "code",
   "execution_count": 22,
   "id": "a4583aeb",
   "metadata": {
    "scrolled": true
   },
   "outputs": [
    {
     "name": "stdout",
     "output_type": "stream",
     "text": [
      "int32\n",
      "float64\n"
     ]
    }
   ],
   "source": [
    "#array types\n",
    "print(a.dtype)\n",
    "print(b.dtype)"
   ]
  },
  {
   "cell_type": "code",
   "execution_count": 130,
   "id": "a476dc94",
   "metadata": {},
   "outputs": [
    {
     "name": "stdout",
     "output_type": "stream",
     "text": [
      "int32\n",
      "float64\n"
     ]
    }
   ],
   "source": [
    "#convert data type\n",
    "a = np.array([1,2,3,4])\n",
    "print(a.dtype)\n",
    "a=a.astype(float)\n",
    "print(a.dtype)"
   ]
  },
  {
   "cell_type": "code",
   "execution_count": 42,
   "id": "6f292803",
   "metadata": {
    "scrolled": false
   },
   "outputs": [
    {
     "name": "stdout",
     "output_type": "stream",
     "text": [
      "int32\n",
      "object\n",
      "<U6\n",
      "float64\n"
     ]
    }
   ],
   "source": [
    "#specifying a data type. e.g. float64 , int8 , \n",
    "\n",
    "c = np.array([1,2,3,4])\n",
    "f = c.astype(float)\n",
    "d = np.array([{'a':1}, 'sys'])\n",
    "e = np.array(['ali','salman'])\n",
    "\n",
    "print(c.dtype)\n",
    "print(d.dtype)\n",
    "print(e.dtype)\n",
    "print(f.dtype)"
   ]
  },
  {
   "cell_type": "markdown",
   "id": "d3892b5e",
   "metadata": {},
   "source": [
    "## Dimensions and shapes"
   ]
  },
  {
   "cell_type": "code",
   "execution_count": 43,
   "id": "dc8006ef",
   "metadata": {},
   "outputs": [],
   "source": [
    "#2D Array\n",
    "A = np.array([\n",
    "    [1,2,3],\n",
    "    [4,5,6]\n",
    "])"
   ]
  },
  {
   "cell_type": "code",
   "execution_count": 47,
   "id": "dde5cb99",
   "metadata": {},
   "outputs": [],
   "source": [
    "#3D Array\n",
    "B = np.array([\n",
    "    [\n",
    "        [1,2,3],\n",
    "        [4,5,6]\n",
    "    ],\n",
    "    [\n",
    "        [7,8,9],\n",
    "        [10,11,12]\n",
    "    ]\n",
    "])"
   ]
  },
  {
   "cell_type": "code",
   "execution_count": 53,
   "id": "34471ec4",
   "metadata": {},
   "outputs": [
    {
     "name": "stdout",
     "output_type": "stream",
     "text": [
      "(2, 3)\n",
      "(2, 2, 3)\n"
     ]
    }
   ],
   "source": [
    "print(A.shape)\n",
    "print(B.shape)"
   ]
  },
  {
   "cell_type": "code",
   "execution_count": 54,
   "id": "df4b4708",
   "metadata": {},
   "outputs": [
    {
     "name": "stdout",
     "output_type": "stream",
     "text": [
      "2\n",
      "3\n"
     ]
    }
   ],
   "source": [
    "print(A.ndim)\n",
    "print(B.ndim)"
   ]
  },
  {
   "cell_type": "code",
   "execution_count": 55,
   "id": "dec7d64f",
   "metadata": {},
   "outputs": [
    {
     "name": "stdout",
     "output_type": "stream",
     "text": [
      "6\n",
      "12\n"
     ]
    }
   ],
   "source": [
    "print(A.size)\n",
    "print(B.size)"
   ]
  },
  {
   "cell_type": "code",
   "execution_count": 56,
   "id": "a191ebbe",
   "metadata": {},
   "outputs": [
    {
     "name": "stdout",
     "output_type": "stream",
     "text": [
      "int32\n",
      "int32\n"
     ]
    }
   ],
   "source": [
    "print(A.dtype)\n",
    "print(B.dtype)"
   ]
  },
  {
   "cell_type": "code",
   "execution_count": 57,
   "id": "27d48a9e",
   "metadata": {},
   "outputs": [
    {
     "name": "stdout",
     "output_type": "stream",
     "text": [
      "[4 5 6]\n",
      "4\n",
      "4\n"
     ]
    }
   ],
   "source": [
    "#Indexing\n",
    "print(A[1])\n",
    "print(A[1][0])\n",
    "print(A[1,0])"
   ]
  },
  {
   "cell_type": "code",
   "execution_count": 58,
   "id": "e11275da",
   "metadata": {},
   "outputs": [
    {
     "name": "stdout",
     "output_type": "stream",
     "text": [
      "[[1 2]\n",
      " [4 5]]\n"
     ]
    }
   ],
   "source": [
    "#Slicing\n",
    "print(A[:3,:2])"
   ]
  },
  {
   "cell_type": "markdown",
   "id": "747745db",
   "metadata": {},
   "source": [
    "## Summary Statistics"
   ]
  },
  {
   "cell_type": "code",
   "execution_count": 59,
   "id": "a3a68d69",
   "metadata": {},
   "outputs": [],
   "source": [
    "a = np.array([1,2,3,4])\n",
    "A = np.array([\n",
    "    [1,2,3],\n",
    "    [4,5,6],\n",
    "    [7,8,9]\n",
    "])"
   ]
  },
  {
   "cell_type": "code",
   "execution_count": 68,
   "id": "d31a1020",
   "metadata": {},
   "outputs": [
    {
     "name": "stdout",
     "output_type": "stream",
     "text": [
      "10\n",
      "45\n",
      "Rows: [12 15 18]\n",
      "Columns: [ 6 15 24]\n"
     ]
    }
   ],
   "source": [
    "#sum: 1D & 2D\n",
    "print(a.sum())\n",
    "print(A.sum())\n",
    "print(\"Rows:\", A.sum(axis=0))\n",
    "print(\"Columns:\", A.sum(axis=1))"
   ]
  },
  {
   "cell_type": "code",
   "execution_count": 69,
   "id": "fbdd5620",
   "metadata": {},
   "outputs": [
    {
     "name": "stdout",
     "output_type": "stream",
     "text": [
      "2.5\n",
      "5.0\n",
      "Rows: [4. 5. 6.]\n",
      "Columns: [2. 5. 8.]\n"
     ]
    }
   ],
   "source": [
    "#mean: 1D & 2D\n",
    "print(a.mean())\n",
    "print(A.mean())\n",
    "print(\"Rows:\", A.mean(axis=0))\n",
    "print(\"Columns:\", A.mean(axis=1))"
   ]
  },
  {
   "cell_type": "code",
   "execution_count": 71,
   "id": "ac293369",
   "metadata": {},
   "outputs": [
    {
     "name": "stdout",
     "output_type": "stream",
     "text": [
      "1.118033988749895\n",
      "2.581988897471611\n",
      "Rows: [2.44948974 2.44948974 2.44948974]\n",
      "Columns: [0.81649658 0.81649658 0.81649658]\n"
     ]
    }
   ],
   "source": [
    "#standard deviation: 1D & 2D\n",
    "print(a.std())\n",
    "print(A.std())\n",
    "print(\"Rows:\", A.std(axis=0))\n",
    "print(\"Columns:\", A.std(axis=1))"
   ]
  },
  {
   "cell_type": "markdown",
   "id": "065433c3",
   "metadata": {},
   "source": [
    "## Broadcasting and Vectorized Operations"
   ]
  },
  {
   "cell_type": "code",
   "execution_count": 87,
   "id": "97a4d3a8",
   "metadata": {},
   "outputs": [
    {
     "data": {
      "text/plain": [
       "array([0, 1, 2, 3])"
      ]
     },
     "execution_count": 87,
     "metadata": {},
     "output_type": "execute_result"
    }
   ],
   "source": [
    "a = np.arange(4)\n",
    "b = np.array([10,10,10,10])\n",
    "a"
   ]
  },
  {
   "cell_type": "code",
   "execution_count": 88,
   "id": "e0ca0150",
   "metadata": {},
   "outputs": [
    {
     "name": "stdout",
     "output_type": "stream",
     "text": [
      "[10 11 12 13]\n",
      "[ 0 10 20 30]\n"
     ]
    }
   ],
   "source": [
    "print(a + 10)\n",
    "print(a * 10)"
   ]
  },
  {
   "cell_type": "code",
   "execution_count": 94,
   "id": "93e9358c",
   "metadata": {},
   "outputs": [
    {
     "data": {
      "text/plain": [
       "array([40, 41, 42, 43])"
      ]
     },
     "execution_count": 94,
     "metadata": {},
     "output_type": "execute_result"
    }
   ],
   "source": [
    "a += 10\n",
    "a"
   ]
  },
  {
   "cell_type": "code",
   "execution_count": 95,
   "id": "0cfd3dfc",
   "metadata": {},
   "outputs": [
    {
     "data": {
      "text/plain": [
       "array([50, 51, 52, 53])"
      ]
     },
     "execution_count": 95,
     "metadata": {},
     "output_type": "execute_result"
    }
   ],
   "source": [
    "a + b"
   ]
  },
  {
   "cell_type": "code",
   "execution_count": 96,
   "id": "e45ec5fe",
   "metadata": {
    "scrolled": true
   },
   "outputs": [
    {
     "data": {
      "text/plain": [
       "array([400, 410, 420, 430])"
      ]
     },
     "execution_count": 96,
     "metadata": {},
     "output_type": "execute_result"
    }
   ],
   "source": [
    "a * b"
   ]
  },
  {
   "cell_type": "markdown",
   "id": "ca5c1230",
   "metadata": {},
   "source": [
    "## Boolean Arrays"
   ]
  },
  {
   "cell_type": "code",
   "execution_count": 100,
   "id": "bbda7c73",
   "metadata": {},
   "outputs": [
    {
     "name": "stdout",
     "output_type": "stream",
     "text": [
      "[0 3]\n",
      "[0 1 2 3]\n"
     ]
    }
   ],
   "source": [
    "a= np.arange(4)\n",
    "print(a[[0,-1]])\n",
    "print(a)"
   ]
  },
  {
   "cell_type": "code",
   "execution_count": 101,
   "id": "7808ec60",
   "metadata": {},
   "outputs": [
    {
     "data": {
      "text/plain": [
       "array([0, 3])"
      ]
     },
     "execution_count": 101,
     "metadata": {},
     "output_type": "execute_result"
    }
   ],
   "source": [
    "a[[True,False,False,True]]"
   ]
  },
  {
   "cell_type": "markdown",
   "id": "05a073fc",
   "metadata": {},
   "source": [
    "We don't need to put True,False in each element. we can just publish a query and let the boolean operator create an array. "
   ]
  },
  {
   "cell_type": "code",
   "execution_count": 102,
   "id": "9ed58abd",
   "metadata": {},
   "outputs": [
    {
     "data": {
      "text/plain": [
       "array([False, False,  True,  True])"
      ]
     },
     "execution_count": 102,
     "metadata": {},
     "output_type": "execute_result"
    }
   ],
   "source": [
    "a>=2"
   ]
  },
  {
   "cell_type": "code",
   "execution_count": 104,
   "id": "4354b3cc",
   "metadata": {},
   "outputs": [
    {
     "data": {
      "text/plain": [
       "array([2, 3])"
      ]
     },
     "execution_count": 104,
     "metadata": {},
     "output_type": "execute_result"
    }
   ],
   "source": [
    "#give me the values of a, such that they are greater than mean of a.\n",
    "a[a>a.mean()]"
   ]
  },
  {
   "cell_type": "code",
   "execution_count": 106,
   "id": "e46262ee",
   "metadata": {},
   "outputs": [
    {
     "data": {
      "text/plain": [
       "array([0, 1])"
      ]
     },
     "execution_count": 106,
     "metadata": {},
     "output_type": "execute_result"
    }
   ],
   "source": [
    "#give me values of a, such that they are smaller than mean.\n",
    "a[~(a>a.mean())]"
   ]
  },
  {
   "cell_type": "code",
   "execution_count": 107,
   "id": "54584bf2",
   "metadata": {},
   "outputs": [
    {
     "data": {
      "text/plain": [
       "array([0, 1])"
      ]
     },
     "execution_count": 107,
     "metadata": {},
     "output_type": "execute_result"
    }
   ],
   "source": [
    "#using or operator\n",
    "a[(a==0)|(a==1)]"
   ]
  },
  {
   "cell_type": "code",
   "execution_count": 108,
   "id": "aed4ad2d",
   "metadata": {},
   "outputs": [
    {
     "data": {
      "text/plain": [
       "array([0, 2])"
      ]
     },
     "execution_count": 108,
     "metadata": {},
     "output_type": "execute_result"
    }
   ],
   "source": [
    "#an even number & with index <=2\n",
    "a[(a<=2)&(a%2==0)]"
   ]
  },
  {
   "cell_type": "markdown",
   "id": "575a66c4",
   "metadata": {},
   "source": [
    "## Logic Functions"
   ]
  },
  {
   "cell_type": "code",
   "execution_count": 132,
   "id": "6a7a99ec",
   "metadata": {},
   "outputs": [
    {
     "data": {
      "text/plain": [
       "False"
      ]
     },
     "execution_count": 132,
     "metadata": {},
     "output_type": "execute_result"
    }
   ],
   "source": [
    "#Given the X numpy array, return True if none of its elements is zero\n",
    "X = np.array([-1, 2, 0, -4, 5, 6, 0, 0, -9, 10])\n",
    "\n",
    "X.all()"
   ]
  },
  {
   "cell_type": "code",
   "execution_count": 133,
   "id": "033f73d7",
   "metadata": {},
   "outputs": [
    {
     "data": {
      "text/plain": [
       "True"
      ]
     },
     "execution_count": 133,
     "metadata": {},
     "output_type": "execute_result"
    }
   ],
   "source": [
    "#Given the X numpy array, return True if any of its elements is zero\n",
    "X = np.array([-1, 2, 0, -4, 5, 6, 0, 0, -9, 10])\n",
    "\n",
    "X.any()"
   ]
  },
  {
   "cell_type": "markdown",
   "id": "a8c58824",
   "metadata": {},
   "source": [
    "## Useful Numpy functions"
   ]
  },
  {
   "cell_type": "markdown",
   "id": "bbd5c561",
   "metadata": {},
   "source": [
    "### Random"
   ]
  },
  {
   "cell_type": "markdown",
   "id": "0d19a912",
   "metadata": {},
   "source": [
    "making an array,\n",
    "3. Return random floats in the half-open interval [0.0, 1.0).\n",
    "\n",
    "                                                     np.random.random(size=None)\n",
    "                                                         Example: np.random.random(size=(3,3))\n",
    "                                                     \n",
    "5. Random values in a given shape                    np.random.rand(d0, d1, ..., dn)\n",
    "                                                         Example:    np.random.rand(2,4); \n",
    "                                                                     shows matrics of 2 rows and 4 columns.\n",
    "\n",
    "2. Return random integers from low (inclusive) to high (exclusive)                 \n",
    "                                                     np.random.randint(low, high=None, size=None, dtype=int); where:\n",
    "                                                         Example: np.random.randint(10, size=(3,3))\n",
    "                                                         np.random.randint(low = 2, high = 10, size=(3,3))\n",
    "\n",
    "6. Return a sample (or samples) from the “standard normal” distribution\n",
    "                                                     np.random.randn(d0, d1, ..., dn)\n",
    "                                                         Example: np.random.randn(3,3,3)\n",
    "                                                         \n",
    "4. with normal distribution                          np.random.normal(loc=0.0, scale=1.0, size=None); where: \n",
    "                                                     loc = mean, scale= std., size=None\n",
    "                                                         example: np.random.normal(loc=5.0, scale=1.0, size=(3,3))\n",
    "\n",
    "1. Generates a random sample from a given 1-D array  random.choice(a, size=None, replace=True, p=None); where\n",
    "                                                     p = The probabilities associated with each entry in a.\n",
    "                                                     replace = Whether the sample is with or without replacement.\n",
    "                                                     example: np.random.choice([3,5,7,9],size=(100),p=[0.1,0.3,0.5,0.1])\n",
    "                                                         gives probability distribution. "
   ]
  },
  {
   "cell_type": "code",
   "execution_count": 106,
   "id": "0b36b02b",
   "metadata": {},
   "outputs": [
    {
     "name": "stdout",
     "output_type": "stream",
     "text": [
      "<class 'numpy.ndarray'>\n",
      "float64\n"
     ]
    }
   ],
   "source": [
    "a=np.array([2,3,4,5], dtype=float)\n",
    "print(type(a))\n",
    "print(a.dtype)\n",
    "\n",
    "b=np.array()\n",
    "\n",
    "class Numpy:\n",
    "class Ndarray(Numpy):\n",
    "    def __init__(self,dtype, order='K', casting='unsafe', subok=True, copy=True):\n",
    "        self.dtype=dtype\n",
    "        \n",
    "        \n",
    "nd=Ndarray(int,K,"
   ]
  },
  {
   "cell_type": "code",
   "execution_count": 122,
   "id": "3a880859",
   "metadata": {},
   "outputs": [
    {
     "ename": "TypeError",
     "evalue": "unbound method Generator.random() needs an argument",
     "output_type": "error",
     "traceback": [
      "\u001b[1;31m---------------------------------------------------------------------------\u001b[0m",
      "\u001b[1;31mTypeError\u001b[0m                                 Traceback (most recent call last)",
      "Cell \u001b[1;32mIn[122], line 1\u001b[0m\n\u001b[1;32m----> 1\u001b[0m d\u001b[38;5;241m=\u001b[39mnp\u001b[38;5;241m.\u001b[39mrandom\u001b[38;5;241m.\u001b[39mGenerator\u001b[38;5;241m.\u001b[39mrandom(size\u001b[38;5;241m=\u001b[39m\u001b[38;5;241m10\u001b[39m, dtype\u001b[38;5;241m=\u001b[39mnp\u001b[38;5;241m.\u001b[39mfloat64, out\u001b[38;5;241m=\u001b[39m\u001b[38;5;28;01mNone\u001b[39;00m)\n\u001b[0;32m      2\u001b[0m d\n",
      "\u001b[1;31mTypeError\u001b[0m: unbound method Generator.random() needs an argument"
     ]
    }
   ],
   "source": [
    "d=np.random.Generator.random(size=10, dtype=np.float64, out=None)\n",
    "d"
   ]
  },
  {
   "cell_type": "code",
   "execution_count": 115,
   "id": "e04297f6",
   "metadata": {},
   "outputs": [
    {
     "name": "stdout",
     "output_type": "stream",
     "text": [
      "A=[[8 9 4]\n",
      " [8 5 9]\n",
      " [7 6 6]]\n",
      "\n",
      "B=[[9 2]\n",
      " [9 2]\n",
      " [5 9]]\n",
      "\n",
      "A.dot(B)=[[173  70]\n",
      " [162 107]\n",
      " [147  80]]\n",
      "\n",
      "A@B=[[173  70]\n",
      " [162 107]\n",
      " [147  80]]\n",
      "\n",
      "B.T=[[9 9 5]\n",
      " [2 2 9]]\n",
      "\n",
      "B.T@A=[[179 156 147]\n",
      " [ 95  82  80]]\n"
     ]
    }
   ],
   "source": [
    "A = np.random.randint(10, size=(3,3))\n",
    "B = np.random.randint(10, size=(3,2))\n",
    "\n",
    "print(f\"A={A}\")\n",
    "print(\"\")\n",
    "\n",
    "print(f\"B={B}\")\n",
    "print(\"\")\n",
    "\n",
    "print(f\"A.dot(B)={A.dot(B)}\")\n",
    "print(\"\")\n",
    "\n",
    "print(f\"A@B={A@B}\")\n",
    "print(\"\")\n",
    "\n",
    "print(f\"B.T={B.T}\")\n",
    "print(\"\")\n",
    "\n",
    "print(f\"B.T@A={B.T@A}\")"
   ]
  },
  {
   "cell_type": "code",
   "execution_count": 62,
   "id": "783a5cf1",
   "metadata": {},
   "outputs": [
    {
     "data": {
      "text/plain": [
       "array([0.21596802, 0.9690554 ])"
      ]
     },
     "execution_count": 62,
     "metadata": {},
     "output_type": "execute_result"
    }
   ],
   "source": [
    "f=np.random.random(size=(2))\n",
    "f"
   ]
  },
  {
   "cell_type": "code",
   "execution_count": 119,
   "id": "3738d061",
   "metadata": {},
   "outputs": [
    {
     "data": {
      "text/plain": [
       "array([0.54573651, 0.13113725])"
      ]
     },
     "execution_count": 119,
     "metadata": {},
     "output_type": "execute_result"
    }
   ],
   "source": [
    "g=np.random.normal(size=2)\n",
    "g"
   ]
  },
  {
   "cell_type": "code",
   "execution_count": 120,
   "id": "f62a577a",
   "metadata": {},
   "outputs": [
    {
     "data": {
      "text/plain": [
       "array([[0.23683286, 0.17076685, 0.42640316, 0.57427733],\n",
       "       [0.16084198, 0.80921043, 0.69314485, 0.27308681]])"
      ]
     },
     "execution_count": 120,
     "metadata": {},
     "output_type": "execute_result"
    }
   ],
   "source": [
    "h=np.random.rand(2,4)\n",
    "h"
   ]
  },
  {
   "cell_type": "code",
   "execution_count": 53,
   "id": "e0c2738e",
   "metadata": {},
   "outputs": [
    {
     "data": {
      "text/plain": [
       "array([[[ 1.55260503,  0.14134604,  0.24504436],\n",
       "        [-1.88670373,  0.31776519,  1.20595707],\n",
       "        [-0.42691424, -0.83140554,  0.78889789]],\n",
       "\n",
       "       [[-1.66786334,  0.72110489,  0.97277986],\n",
       "        [ 1.03716701,  0.82017881,  0.66189626],\n",
       "        [ 0.64849229, -1.14583468,  1.74529325]],\n",
       "\n",
       "       [[-0.14625013,  0.36023699,  0.15571662],\n",
       "        [ 0.03945812,  1.24211794, -0.58886143],\n",
       "        [-2.45787753, -0.15997013,  1.38353305]]])"
      ]
     },
     "execution_count": 53,
     "metadata": {},
     "output_type": "execute_result"
    }
   ],
   "source": [
    "#Create a 3*3*3 numpy matrix, filled with random float values.\n",
    "np.random.randn(3,3,3) # 0 to 1 floats"
   ]
  },
  {
   "cell_type": "markdown",
   "id": "a7eb386f",
   "metadata": {},
   "source": [
    "### arange"
   ]
  },
  {
   "cell_type": "code",
   "execution_count": 121,
   "id": "e555d637",
   "metadata": {},
   "outputs": [
    {
     "data": {
      "text/plain": [
       "array([0, 1, 2, 3, 4, 5, 6, 7, 8, 9])"
      ]
     },
     "execution_count": 121,
     "metadata": {},
     "output_type": "execute_result"
    }
   ],
   "source": [
    "#create array, upto 10. 10 not included.\n",
    "np.arange(10)"
   ]
  },
  {
   "cell_type": "code",
   "execution_count": 122,
   "id": "ba4c09cb",
   "metadata": {},
   "outputs": [
    {
     "data": {
      "text/plain": [
       "array([5, 6, 7, 8, 9])"
      ]
     },
     "execution_count": 122,
     "metadata": {},
     "output_type": "execute_result"
    }
   ],
   "source": [
    "#create array. from 5 upto 10. 10 not included.\n",
    "np.arange(5,10)"
   ]
  },
  {
   "cell_type": "code",
   "execution_count": 123,
   "id": "5d9c25a4",
   "metadata": {},
   "outputs": [
    {
     "data": {
      "text/plain": [
       "array([0. , 0.1, 0.2, 0.3, 0.4, 0.5, 0.6, 0.7, 0.8, 0.9])"
      ]
     },
     "execution_count": 123,
     "metadata": {},
     "output_type": "execute_result"
    }
   ],
   "source": [
    "#create array. from 0 upto 1. interval 0.1.\n",
    "np.arange(0,1,.1)"
   ]
  },
  {
   "cell_type": "code",
   "execution_count": 129,
   "id": "a853ed44",
   "metadata": {},
   "outputs": [
    {
     "data": {
      "text/plain": [
       "array([[0, 1, 2, 3, 4],\n",
       "       [5, 6, 7, 8, 9]])"
      ]
     },
     "execution_count": 129,
     "metadata": {},
     "output_type": "execute_result"
    }
   ],
   "source": [
    "#create array. upto 10. 10 not included\n",
    "#change shape. rows 2. columns 5.\n",
    "np.arange(10).reshape(2,5)"
   ]
  },
  {
   "cell_type": "markdown",
   "id": "91f93809",
   "metadata": {},
   "source": [
    "### linspace"
   ]
  },
  {
   "cell_type": "code",
   "execution_count": 131,
   "id": "fb9e1011",
   "metadata": {},
   "outputs": [
    {
     "data": {
      "text/plain": [
       "array([0.        , 0.11111111, 0.22222222, 0.33333333, 0.44444444,\n",
       "       0.55555556, 0.66666667, 0.77777778, 0.88888889, 1.        ])"
      ]
     },
     "execution_count": 131,
     "metadata": {},
     "output_type": "execute_result"
    }
   ],
   "source": [
    "#starting value, ending value, number of values\n",
    "np.linspace(0,1,10)"
   ]
  },
  {
   "cell_type": "code",
   "execution_count": 132,
   "id": "115fc190",
   "metadata": {},
   "outputs": [
    {
     "data": {
      "text/plain": [
       "array([0.  , 0.05, 0.1 , 0.15, 0.2 , 0.25, 0.3 , 0.35, 0.4 , 0.45, 0.5 ,\n",
       "       0.55, 0.6 , 0.65, 0.7 , 0.75, 0.8 , 0.85, 0.9 , 0.95])"
      ]
     },
     "execution_count": 132,
     "metadata": {},
     "output_type": "execute_result"
    }
   ],
   "source": [
    "np.linspace(0,1,20,False)"
   ]
  },
  {
   "cell_type": "markdown",
   "id": "c92132ee",
   "metadata": {},
   "source": [
    "### zeros, ones, empty"
   ]
  },
  {
   "cell_type": "code",
   "execution_count": 133,
   "id": "8cad0c22",
   "metadata": {},
   "outputs": [
    {
     "data": {
      "text/plain": [
       "array([0., 0., 0., 0., 0.])"
      ]
     },
     "execution_count": 133,
     "metadata": {},
     "output_type": "execute_result"
    }
   ],
   "source": [
    "np.zeros(5)"
   ]
  },
  {
   "cell_type": "code",
   "execution_count": 135,
   "id": "41074ff7",
   "metadata": {},
   "outputs": [
    {
     "data": {
      "text/plain": [
       "array([[0, 0, 0],\n",
       "       [0, 0, 0],\n",
       "       [0, 0, 0]], dtype=int64)"
      ]
     },
     "execution_count": 135,
     "metadata": {},
     "output_type": "execute_result"
    }
   ],
   "source": [
    "np.zeros((3,3),dtype=np.int64)"
   ]
  },
  {
   "cell_type": "code",
   "execution_count": 136,
   "id": "de28ab62",
   "metadata": {},
   "outputs": [
    {
     "data": {
      "text/plain": [
       "array([[1., 1., 1.],\n",
       "       [1., 1., 1.],\n",
       "       [1., 1., 1.]])"
      ]
     },
     "execution_count": 136,
     "metadata": {},
     "output_type": "execute_result"
    }
   ],
   "source": [
    "np.ones((3,3))"
   ]
  },
  {
   "cell_type": "code",
   "execution_count": 137,
   "id": "60ab6930",
   "metadata": {},
   "outputs": [
    {
     "data": {
      "text/plain": [
       "array([[0.25, 0.5 ],\n",
       "       [0.75, 1.  ]])"
      ]
     },
     "execution_count": 137,
     "metadata": {},
     "output_type": "execute_result"
    }
   ],
   "source": [
    "np.empty((2,2))"
   ]
  },
  {
   "cell_type": "markdown",
   "id": "dac1c849",
   "metadata": {},
   "source": [
    "### identity and eye"
   ]
  },
  {
   "cell_type": "code",
   "execution_count": 138,
   "id": "cb40f0c7",
   "metadata": {},
   "outputs": [
    {
     "data": {
      "text/plain": [
       "array([[1., 0., 0.],\n",
       "       [0., 1., 0.],\n",
       "       [0., 0., 1.]])"
      ]
     },
     "execution_count": 138,
     "metadata": {},
     "output_type": "execute_result"
    }
   ],
   "source": [
    "np.identity(3)"
   ]
  },
  {
   "cell_type": "code",
   "execution_count": 139,
   "id": "f1587e1b",
   "metadata": {},
   "outputs": [
    {
     "data": {
      "text/plain": [
       "array([[1., 0., 0.],\n",
       "       [0., 1., 0.],\n",
       "       [0., 0., 1.]])"
      ]
     },
     "execution_count": 139,
     "metadata": {},
     "output_type": "execute_result"
    }
   ],
   "source": [
    "np.eye(3,3)"
   ]
  },
  {
   "cell_type": "code",
   "execution_count": 142,
   "id": "ac94f467",
   "metadata": {},
   "outputs": [
    {
     "data": {
      "text/plain": [
       "array([[0., 0., 0., 0.],\n",
       "       [0., 0., 0., 0.],\n",
       "       [0., 0., 0., 0.],\n",
       "       [1., 0., 0., 0.],\n",
       "       [0., 1., 0., 0.],\n",
       "       [0., 0., 1., 0.],\n",
       "       [0., 0., 0., 1.],\n",
       "       [0., 0., 0., 0.]])"
      ]
     },
     "execution_count": 142,
     "metadata": {},
     "output_type": "execute_result"
    }
   ],
   "source": [
    "np.eye(8,4, k=-3)"
   ]
  },
  {
   "cell_type": "code",
   "execution_count": 143,
   "id": "98adfbe3",
   "metadata": {},
   "outputs": [
    {
     "data": {
      "text/plain": [
       "'W'"
      ]
     },
     "execution_count": 143,
     "metadata": {},
     "output_type": "execute_result"
    }
   ],
   "source": [
    "\"Hello World\"[6]"
   ]
  },
  {
   "cell_type": "markdown",
   "id": "829e30a9",
   "metadata": {},
   "source": [
    "### Make a similar Array"
   ]
  },
  {
   "cell_type": "code",
   "execution_count": 14,
   "id": "118b4a4a",
   "metadata": {},
   "outputs": [
    {
     "name": "stdout",
     "output_type": "stream",
     "text": [
      "[3 4 5 6]\n",
      "[1 1 1 1]\n"
     ]
    }
   ],
   "source": [
    "a = np.array([3,4,5,6])\n",
    "print(a)\n",
    "print(np.ones_like(a))"
   ]
  },
  {
   "cell_type": "code",
   "execution_count": 17,
   "id": "6d974142",
   "metadata": {},
   "outputs": [
    {
     "name": "stdout",
     "output_type": "stream",
     "text": [
      "[[[1 2 3]\n",
      "  [4 5 6]]\n",
      "\n",
      " [[9 8 7]\n",
      "  [6 5 4]]]\n",
      "[[[1 1 1]\n",
      "  [1 1 1]]\n",
      "\n",
      " [[1 1 1]\n",
      "  [1 1 1]]]\n"
     ]
    }
   ],
   "source": [
    "A = np.array([\n",
    "    [\n",
    "        [1,2,3],\n",
    "        [4,5,6]\n",
    "    ],\n",
    "    [\n",
    "        [9,8,7],\n",
    "        [6,5,4]\n",
    "    ]\n",
    "])\n",
    "print(A)\n",
    "print(np.ones_like(A))"
   ]
  },
  {
   "cell_type": "markdown",
   "id": "0de630a9",
   "metadata": {},
   "source": [
    "### Performance Efficiency with NumPy"
   ]
  },
  {
   "cell_type": "code",
   "execution_count": 7,
   "id": "9ad213d5",
   "metadata": {},
   "outputs": [],
   "source": [
    "l = list(range(10000000))\n",
    "m = np.arange(10000000)"
   ]
  },
  {
   "cell_type": "code",
   "execution_count": 10,
   "id": "4ae2c17e",
   "metadata": {},
   "outputs": [
    {
     "name": "stdout",
     "output_type": "stream",
     "text": [
      "CPU times: total: 15.6 ms\n",
      "Wall time: 23 ms\n"
     ]
    },
    {
     "data": {
      "text/plain": [
       "-1039031360"
      ]
     },
     "execution_count": 10,
     "metadata": {},
     "output_type": "execute_result"
    }
   ],
   "source": [
    "%time np.sum(m**2)"
   ]
  },
  {
   "cell_type": "code",
   "execution_count": 11,
   "id": "9a008bd3",
   "metadata": {},
   "outputs": [
    {
     "name": "stdout",
     "output_type": "stream",
     "text": [
      "CPU times: total: 2.81 s\n",
      "Wall time: 2.81 s\n"
     ]
    },
    {
     "data": {
      "text/plain": [
       "333333283333335000000"
      ]
     },
     "execution_count": 11,
     "metadata": {},
     "output_type": "execute_result"
    }
   ],
   "source": [
    "%time sum([x**2 for x in l])"
   ]
  },
  {
   "cell_type": "code",
   "execution_count": 124,
   "id": "34cfa8d9",
   "metadata": {},
   "outputs": [
    {
     "name": "stdout",
     "output_type": "stream",
     "text": [
      "800 bytes\n"
     ]
    }
   ],
   "source": [
    "#find size\n",
    "\n",
    "Z = np.zeros((10,10))\n",
    "\n",
    "print(\"%d bytes\" % (Z.size * Z.itemsize))"
   ]
  },
  {
   "cell_type": "markdown",
   "id": "72bc7324",
   "metadata": {},
   "source": [
    "### Data Distribution \n"
   ]
  },
  {
   "cell_type": "code",
   "execution_count": 22,
   "id": "2f472741",
   "metadata": {
    "scrolled": true
   },
   "outputs": [
    {
     "name": "stdout",
     "output_type": "stream",
     "text": [
      "[5 5 7 9 7 7 7 7 5 7 7 5 5 5 3 7 7 7 5 5 7 5 7 7 3 5 5 7 5 3 7 7 7 9 5 5 7\n",
      " 5 3 7 5 7 7 5 3 5 5 5 7 9 9 5 3 5 5 7 5 3 5 5 5 5 5 7 7 7 7 7 7 5 7 5 7 5\n",
      " 7 7 3 7 7 5 3 7 3 5 7 7 5 7 7 5 7 5 5 7 5 7 9 5 9 7]\n"
     ]
    }
   ],
   "source": [
    "#We will generate 1D array with 100 values. \n",
    "#Values will be 3,5,7,9. \n",
    "#probability will be 0.1, 0.3, 0.5, 0.1\n",
    "\n",
    "import numpy as np\n",
    "a = np.random.choice([3,5,7,9], p=[0.1,0.3,0.5,0.1], size=(100))\n",
    "print(a)"
   ]
  },
  {
   "cell_type": "code",
   "execution_count": 23,
   "id": "e3ee02b9",
   "metadata": {},
   "outputs": [
    {
     "name": "stdout",
     "output_type": "stream",
     "text": [
      "[[5 3 7 5 7]\n",
      " [7 7 7 7 5]\n",
      " [5 7 7 7 7]]\n"
     ]
    }
   ],
   "source": [
    "#We will generate 2D with 3 rows and 5 columns\n",
    "\n",
    "a = np.random.choice([3,5,7,9], p=[0.1,0.3,0.5,0.1], size=(3,5))\n",
    "print(a)"
   ]
  },
  {
   "cell_type": "code",
   "execution_count": 25,
   "id": "ae41bd92",
   "metadata": {},
   "outputs": [
    {
     "name": "stdout",
     "output_type": "stream",
     "text": [
      "[5 2 3 1 4]\n"
     ]
    }
   ],
   "source": [
    "#Shuffle elements randomly and save it in b.\n",
    "\n",
    "b= np.array([1,2,3,4,5])\n",
    "np.random.shuffle(b)\n",
    "print(b)"
   ]
  },
  {
   "cell_type": "code",
   "execution_count": 30,
   "id": "a0277518",
   "metadata": {},
   "outputs": [
    {
     "name": "stdout",
     "output_type": "stream",
     "text": [
      "[5 4 3 1 2]\n"
     ]
    }
   ],
   "source": [
    "#Shuffe elements randomly and don't save it in the variable. \n",
    "c= np.array([5,4,3,1,2])\n",
    "np.random.permutation(c)\n",
    "print(c)"
   ]
  },
  {
   "cell_type": "code",
   "execution_count": 49,
   "id": "0388250a",
   "metadata": {},
   "outputs": [
    {
     "name": "stdout",
     "output_type": "stream",
     "text": [
      "[[15.2673798   4.05320016 16.30267292]\n",
      " [10.51381831 11.90929423 12.95704455]]\n"
     ]
    }
   ],
   "source": [
    "#create random normal distribution\n",
    "#size 2,3\n",
    "#mean 1\n",
    "#Std 0.5\n",
    "\n",
    "f = random.normal(loc=10, scale=5, size=(2,3))\n",
    "print(f)"
   ]
  },
  {
   "cell_type": "code",
   "execution_count": 50,
   "id": "274fdef1",
   "metadata": {},
   "outputs": [
    {
     "data": {
      "text/plain": [
       "11.833901662507898"
      ]
     },
     "execution_count": 50,
     "metadata": {},
     "output_type": "execute_result"
    }
   ],
   "source": [
    "np.mean(f)"
   ]
  },
  {
   "cell_type": "markdown",
   "id": "1af3811d",
   "metadata": {},
   "source": [
    "#### Plotting graphs using seaborn\n",
    "\n",
    "Seaborn is a library that uses matplotlib underneath to plot graph i.e. pyplot"
   ]
  },
  {
   "cell_type": "code",
   "execution_count": 40,
   "id": "45bdceea",
   "metadata": {
    "scrolled": true
   },
   "outputs": [
    {
     "name": "stdout",
     "output_type": "stream",
     "text": [
      "[2 2 1 0 4 1 1 2 3 2 0 3 4 3 1 0 2 3 3 1 3 2 1 4 1 4 1 3 0 0 2 3 4 1 1 2 0\n",
      " 4 2 3 0 0 1 1 1 1 0 4 1 4 0 1 1 2 3 0 0 2 3 0 1 3 3 1 2 1 0 3 3 3 0 4 3 1\n",
      " 2 3 0 3 2 2 4 2 4 1 2 1 1 4 3 1 1 2 1 3 1 2 2 2 1 3]\n"
     ]
    },
    {
     "name": "stderr",
     "output_type": "stream",
     "text": [
      "C:\\Users\\Falcons\\AppData\\Local\\Temp\\ipykernel_12828\\3327966505.py:5: UserWarning: \n",
      "\n",
      "`distplot` is a deprecated function and will be removed in seaborn v0.14.0.\n",
      "\n",
      "Please adapt your code to use either `displot` (a figure-level function with\n",
      "similar flexibility) or `histplot` (an axes-level function for histograms).\n",
      "\n",
      "For a guide to updating your code to use the new functions, please see\n",
      "https://gist.github.com/mwaskom/de44147ed2974457ad6372750bbe5751\n",
      "\n",
      "  sns.distplot(d)\n"
     ]
    },
    {
     "data": {
      "text/plain": [
       "<Axes: ylabel='Density'>"
      ]
     },
     "execution_count": 40,
     "metadata": {},
     "output_type": "execute_result"
    },
    {
     "data": {
      "image/png": "[encoded data removed]",
      "text/plain": [
       "<Figure size 640x480 with 1 Axes>"
      ]
     },
     "metadata": {},
     "output_type": "display_data"
    }
   ],
   "source": [
    "#graph histogram and distribution plot.\n",
    "\n",
    "import matplotlib.pyplot as plt\n",
    "import seaborn as sns\n",
    "d = np.random.choice([0,1,2,3,4], p=[0.15,0.2,0.3,0.2,0.15], size=100)\n",
    "print(d)\n",
    "sns.distplot(d)"
   ]
  },
  {
   "cell_type": "code",
   "execution_count": 41,
   "id": "23cd02e2",
   "metadata": {
    "scrolled": true
   },
   "outputs": [
    {
     "name": "stdout",
     "output_type": "stream",
     "text": [
      "[2 3 0 4 0 2 3 3 0 4 2 2 1 0 2 1 1 1 2 4 1 2 0 4 2 2 0 1 2 2 1 4 4 0 3 2 1\n",
      " 2 2 0 2 4 0 3 0 4 4 2 0 1 3 0 2 4 4 2 3 1 4 4 3 3 2 0 2 1 1 0 4 2 1 2 2 0\n",
      " 2 1 4 1 3 1 0 1 4 3 2 2 0 2 1 2 0 3 3 4 2 3 2 0 4 3]\n"
     ]
    },
    {
     "name": "stderr",
     "output_type": "stream",
     "text": [
      "C:\\Users\\Falcons\\AppData\\Local\\Temp\\ipykernel_12828\\774869479.py:5: UserWarning: \n",
      "\n",
      "`distplot` is a deprecated function and will be removed in seaborn v0.14.0.\n",
      "\n",
      "Please adapt your code to use either `displot` (a figure-level function with\n",
      "similar flexibility) or `kdeplot` (an axes-level function for kernel density plots).\n",
      "\n",
      "For a guide to updating your code to use the new functions, please see\n",
      "https://gist.github.com/mwaskom/de44147ed2974457ad6372750bbe5751\n",
      "\n",
      "  sns.distplot(d, hist=False)\n"
     ]
    },
    {
     "data": {
      "image/png": "[encoded data removed]",
      "text/plain": [
       "<Figure size 640x480 with 1 Axes>"
      ]
     },
     "metadata": {},
     "output_type": "display_data"
    }
   ],
   "source": [
    "#Make distribution plot, remove histogram.\n",
    "import matplotlib.pyplot as plt\n",
    "import seaborn as sns\n",
    "d = np.random.choice([0,1,2,3,4], p=[0.15,0.2,0.3,0.2,0.15], size=100)\n",
    "print(d)\n",
    "sns.distplot(d, hist=False)\n",
    "plt.show()"
   ]
  },
  {
   "cell_type": "code",
   "execution_count": 52,
   "id": "c9d6647d",
   "metadata": {
    "scrolled": true
   },
   "outputs": [
    {
     "name": "stderr",
     "output_type": "stream",
     "text": [
      "C:\\Users\\Falcons\\AppData\\Local\\Temp\\ipykernel_12828\\72172970.py:4: UserWarning: \n",
      "\n",
      "`distplot` is a deprecated function and will be removed in seaborn v0.14.0.\n",
      "\n",
      "Please adapt your code to use either `displot` (a figure-level function with\n",
      "similar flexibility) or `kdeplot` (an axes-level function for kernel density plots).\n",
      "\n",
      "For a guide to updating your code to use the new functions, please see\n",
      "https://gist.github.com/mwaskom/de44147ed2974457ad6372750bbe5751\n",
      "\n",
      "  sns.distplot(g, hist=False)\n"
     ]
    },
    {
     "data": {
      "image/png": "[encoded data removed]",
      "text/plain": [
       "<Figure size 640x480 with 1 Axes>"
      ]
     },
     "metadata": {},
     "output_type": "display_data"
    }
   ],
   "source": [
    "#plot normal distribution / bell curve\n",
    "\n",
    "g = np.random.normal(size=1000)\n",
    "sns.distplot(g, hist=False)\n",
    "plt.show()"
   ]
  },
  {
   "cell_type": "code",
   "execution_count": null,
   "id": "5897194c",
   "metadata": {},
   "outputs": [],
   "source": []
  }
 ],
 "metadata": {
  "kernelspec": {
   "display_name": "Python 3 (ipykernel)",
   "language": "python",
   "name": "python3"
  },
  "language_info": {
   "codemirror_mode": {
    "name": "ipython",
    "version": 3
   },
   "file_extension": ".py",
   "mimetype": "text/x-python",
   "name": "python",
   "nbconvert_exporter": "python",
   "pygments_lexer": "ipython3",
   "version": "3.11.4"
  }
 },
 "nbformat": 4,
 "nbformat_minor": 5
}
