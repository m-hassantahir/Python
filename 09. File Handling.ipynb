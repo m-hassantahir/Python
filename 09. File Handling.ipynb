{
 "cells": [
  {
   "cell_type": "code",
   "execution_count": 1,
   "id": "0429163d",
   "metadata": {},
   "outputs": [],
   "source": [
    "#how to create a file"
   ]
  },
  {
   "cell_type": "markdown",
   "id": "ef7de259",
   "metadata": {},
   "source": [
    "#File Handing Access Modes:\n",
    "\n",
    "r, to read an existing file. The previous data will not be deleted.\n",
    "\n",
    "r+ to read an existing file. The previous data will not be deleted. also write data into the file.\n",
    "\n",
    "w, Creates a new file or open an existing file for a write operation. if the file already contains some data, then it will be overridden/over-written.\n",
    "\n",
    "w+ to read and write data into the file. It will override the data\n",
    "\n",
    "a, open an existing file for append operation. It wouldn't override existing data\n",
    "\n",
    "a+ open an existing file for append operation. It wouldn't override existing data. It also creates a file if it does not exist."
   ]
  },
  {
   "cell_type": "code",
   "execution_count": 8,
   "id": "223b2b44",
   "metadata": {},
   "outputs": [
    {
     "data": {
      "text/plain": [
       "50"
      ]
     },
     "execution_count": 8,
     "metadata": {},
     "output_type": "execute_result"
    }
   ],
   "source": [
    "f = open(\"test-file1.txt\", \"w\") \n",
    "f.write(\"Line-1: This is the content to be put in testfile2\\n\")\n",
    "f.write(\"Line-2: This is the content to be put in testfile2\")"
   ]
  },
  {
   "cell_type": "code",
   "execution_count": 20,
   "id": "afd5e016",
   "metadata": {},
   "outputs": [],
   "source": [
    "f = open(\"test-file1.txt\", \"w\")\n",
    "for i in range(1,1001):\n",
    "    f.write(str(i)+\" line 1\" \"\\n\")"
   ]
  },
  {
   "cell_type": "code",
   "execution_count": 28,
   "id": "0b3e95ea",
   "metadata": {},
   "outputs": [],
   "source": [
    "f = open(\"test-file1.txt\", \"a\")\n",
    "for i in range(1001,1101):\n",
    "    f.write(str(i)+\" line 1\" \"\\n\")\n",
    "f.close()"
   ]
  },
  {
   "cell_type": "code",
   "execution_count": 27,
   "id": "a1fcd990",
   "metadata": {},
   "outputs": [
    {
     "name": "stdout",
     "output_type": "stream",
     "text": [
      "1 line 1\n",
      "2 line 1\n",
      "3 line \n"
     ]
    }
   ],
   "source": [
    "f = open(\"test-file1.txt\", \"r\")\n",
    "print(f.read(25))\n",
    "f.close()"
   ]
  },
  {
   "cell_type": "code",
   "execution_count": 31,
   "id": "8720be30",
   "metadata": {},
   "outputs": [
    {
     "name": "stdout",
     "output_type": "stream",
     "text": [
      "[Errno 2] No such file or directory: 'test-file2.txt'\n"
     ]
    }
   ],
   "source": [
    "try :\n",
    "    with open(\"test-file2.txt\", \"r\") as f:\n",
    "        print(\"in File\")\n",
    "        print(f.read())\n",
    "except Exception as e:\n",
    "    print(e)"
   ]
  },
  {
   "cell_type": "code",
   "execution_count": 33,
   "id": "a591d144",
   "metadata": {},
   "outputs": [],
   "source": [
    "import os\n",
    "os.remove(\"test-file1.txt\")"
   ]
  },
  {
   "cell_type": "code",
   "execution_count": null,
   "id": "fdcb10c2",
   "metadata": {},
   "outputs": [],
   "source": []
  }
 ],
 "metadata": {
  "kernelspec": {
   "display_name": "Python 3 (ipykernel)",
   "language": "python",
   "name": "python3"
  },
  "language_info": {
   "codemirror_mode": {
    "name": "ipython",
    "version": 3
   },
   "file_extension": ".py",
   "mimetype": "text/x-python",
   "name": "python",
   "nbconvert_exporter": "python",
   "pygments_lexer": "ipython3",
   "version": "3.9.12"
  }
 },
 "nbformat": 4,
 "nbformat_minor": 5
}
