{
 "cells": [
  {
   "cell_type": "code",
   "execution_count": null,
   "id": "f40953dd",
   "metadata": {},
   "outputs": [],
   "source": [
    "# Queue : First in First serve\n",
    "# Stack : First in Last serve"
   ]
  },
  {
   "cell_type": "code",
   "execution_count": 6,
   "id": "29aab998",
   "metadata": {},
   "outputs": [
    {
     "name": "stdout",
     "output_type": "stream",
     "text": [
      "Enter 1 to push \n",
      " Enter 2 to pop \n",
      " Enter 0 to exit0\n",
      "[]\n"
     ]
    }
   ],
   "source": [
    "stack = []\n",
    "while True:\n",
    "    q = input(\"Enter 1 to push \\n Enter 2 to pop \\n Enter 0 to exit\")\n",
    "    if q=='0':\n",
    "        break\n",
    "print(stack)"
   ]
  },
  {
   "cell_type": "code",
   "execution_count": 7,
   "id": "6cffa488",
   "metadata": {},
   "outputs": [
    {
     "name": "stdout",
     "output_type": "stream",
     "text": [
      "Enter 0 if you want to stop.\n",
      " enter 1 if you want to apend. \n",
      " enter 2 if you want to pop.1\n",
      "Enter item to push: Ahmed\n",
      "['Ahmed']\n",
      "Enter 0 if you want to stop.\n",
      " enter 1 if you want to apend. \n",
      " enter 2 if you want to pop.1\n",
      "Enter item to push: Haider\n",
      "['Ahmed', 'Haider']\n",
      "Enter 0 if you want to stop.\n",
      " enter 1 if you want to apend. \n",
      " enter 2 if you want to pop.1\n",
      "Enter item to push: Hassaan\n",
      "['Ahmed', 'Haider', 'Hassaan']\n",
      "Enter 0 if you want to stop.\n",
      " enter 1 if you want to apend. \n",
      " enter 2 if you want to pop.1\n",
      "Enter item to push: Aaliya\n",
      "['Ahmed', 'Haider', 'Hassaan', 'Aaliya']\n",
      "Enter 0 if you want to stop.\n",
      " enter 1 if you want to apend. \n",
      " enter 2 if you want to pop.0\n"
     ]
    }
   ],
   "source": [
    "stack = []\n",
    "while True:\n",
    "    q = input(\"Enter 0 if you want to stop.\\n enter 1 if you want to apend. \\n enter 2 if you want to pop.\")\n",
    "    if q=='0':\n",
    "        break\n",
    "    elif q=='1':\n",
    "        name = input(\"Enter item to push: \")\n",
    "        stack.append(name)\n",
    "    elif q=='2':\n",
    "        if len(stack) <=0:\n",
    "            print(\"Stack is empty, you can not pop any item\")\n",
    "        else:\n",
    "            x = stack.pop()\n",
    "            print(f\"Pop item is {x} \")\n",
    "    else:\n",
    "        print(\"Invalid Input\")\n",
    "    print(stack)"
   ]
  },
  {
   "cell_type": "markdown",
   "id": "c554cbe9",
   "metadata": {},
   "source": [
    "My Practice: The same program in a different sequence:"
   ]
  },
  {
   "cell_type": "code",
   "execution_count": 10,
   "id": "e47521c4",
   "metadata": {
    "scrolled": true
   },
   "outputs": [
    {
     "name": "stdout",
     "output_type": "stream",
     "text": [
      "Do you want to enter a value? y/ny\n",
      "Enter a name.Umer\n",
      "['Umer']\n",
      "Do you want to enter a value? y/ny\n",
      "Enter a name.Ali\n",
      "['Umer', 'Ali']\n",
      "Do you want to enter a value? y/ny\n",
      "Enter a name.Hasan\n",
      "['Umer', 'Ali', 'Hasan']\n",
      "Do you want to enter a value? y/ny\n",
      "Enter a name.Muneeb\n",
      "['Umer', 'Ali', 'Hasan', 'Muneeb']\n",
      "Do you want to enter a value? y/ny\n",
      "Enter a name.Jameel\n",
      "['Umer', 'Ali', 'Hasan', 'Muneeb', 'Jameel']\n",
      "Do you want to enter a value? y/nn\n",
      "Do you want to remove the last value? y/ny\n",
      "['Umer', 'Ali', 'Hasan', 'Muneeb']\n",
      "Do you want to enter a value? y/nn\n",
      "Do you want to remove the last value? y/nn\n",
      "['Umer', 'Ali', 'Hasan', 'Muneeb']\n"
     ]
    }
   ],
   "source": [
    "stack = []\n",
    "while True:\n",
    "    q = input(\"Do you want to enter a value? y/n\")\n",
    "    if q=='n':\n",
    "        p = input(\"Do you want to remove the last value? y/n\")\n",
    "        if p=='n':\n",
    "            break\n",
    "        else:\n",
    "            if len(stack) <=0:\n",
    "                print(\"Stack is already empty.\")\n",
    "            else:\n",
    "                x = stack.pop()\n",
    "                print(stack)\n",
    "    elif q=='y':\n",
    "        name= input(\"Enter a name.\")\n",
    "        stack.append(name)\n",
    "        print(stack)\n",
    "    else:\n",
    "        print(\"Invalid Command\")\n",
    "print(stack)\n"
   ]
  }
 ],
 "metadata": {
  "kernelspec": {
   "display_name": "Python 3 (ipykernel)",
   "language": "python",
   "name": "python3"
  },
  "language_info": {
   "codemirror_mode": {
    "name": "ipython",
    "version": 3
   },
   "file_extension": ".py",
   "mimetype": "text/x-python",
   "name": "python",
   "nbconvert_exporter": "python",
   "pygments_lexer": "ipython3",
   "version": "3.9.12"
  }
 },
 "nbformat": 4,
 "nbformat_minor": 5
}
