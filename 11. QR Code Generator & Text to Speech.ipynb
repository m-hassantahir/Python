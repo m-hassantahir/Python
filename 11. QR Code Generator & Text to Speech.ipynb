{
 "cells": [
  {
   "cell_type": "code",
   "execution_count": 1,
   "id": "52a8c276",
   "metadata": {},
   "outputs": [
    {
     "name": "stdout",
     "output_type": "stream",
     "text": [
      "Collecting qrcode\n",
      "  Downloading qrcode-7.4.2-py3-none-any.whl (46 kB)\n",
      "Collecting pypng\n",
      "  Downloading pypng-0.20220715.0-py3-none-any.whl (58 kB)\n",
      "Requirement already satisfied: colorama in c:\\users\\falcons\\anaconda3\\lib\\site-packages (from qrcode) (0.4.4)\n",
      "Requirement already satisfied: typing-extensions in c:\\users\\falcons\\anaconda3\\lib\\site-packages (from qrcode) (4.1.1)\n",
      "Installing collected packages: pypng, qrcode\n",
      "Successfully installed pypng-0.20220715.0 qrcode-7.4.2\n",
      "Note: you may need to restart the kernel to use updated packages.\n"
     ]
    }
   ],
   "source": [
    "pip install qrcode"
   ]
  },
  {
   "cell_type": "code",
   "execution_count": 4,
   "id": "c20f3121",
   "metadata": {},
   "outputs": [],
   "source": [
    "import qrcode\n",
    "qr = qrcode.QRCode(\n",
    "    version=1,\n",
    "    error_correction=qrcode.constants.ERROR_CORRECT_L,\n",
    "    box_size=10,\n",
    "    border=4,\n",
    ")\n",
    "data = \"I am learning Python\"\n",
    "qr.add_data(data)\n",
    "qr.make(fit=True)\n",
    "img = qr.make_image(fill_color=\"black\", back_color='white')\n",
    "img.save('qrc.png')"
   ]
  },
  {
   "cell_type": "markdown",
   "id": "bc7a721c",
   "metadata": {},
   "source": [
    "# Text to speech"
   ]
  },
  {
   "cell_type": "code",
   "execution_count": 5,
   "id": "6a609e14",
   "metadata": {},
   "outputs": [
    {
     "name": "stdout",
     "output_type": "stream",
     "text": [
      "Collecting text-to-speechNote: you may need to restart the kernel to use updated packages.\n",
      "  Downloading text_to_speech-1.6.1-py3-none-any.whl (3.7 kB)\n",
      "Collecting gTTS>=2.3.1\n",
      "  Downloading gTTS-2.4.0-py3-none-any.whl (29 kB)\n",
      "Requirement already satisfied: click<8.2,>=7.1 in c:\\users\\falcons\\anaconda3\\lib\\site-packages (from gTTS>=2.3.1->text-to-speech) (8.0.4)\n",
      "Requirement already satisfied: requests<3,>=2.27 in c:\\users\\falcons\\anaconda3\\lib\\site-packages (from gTTS>=2.3.1->text-to-speech) (2.27.1)\n",
      "Requirement already satisfied: colorama in c:\\users\\falcons\\anaconda3\\lib\\site-packages (from click<8.2,>=7.1->gTTS>=2.3.1->text-to-speech) (0.4.4)\n",
      "Requirement already satisfied: urllib3<1.27,>=1.21.1 in c:\\users\\falcons\\anaconda3\\lib\\site-packages (from requests<3,>=2.27->gTTS>=2.3.1->text-to-speech) (1.26.9)\n",
      "Requirement already satisfied: idna<4,>=2.5 in c:\\users\\falcons\\anaconda3\\lib\\site-packages (from requests<3,>=2.27->gTTS>=2.3.1->text-to-speech) (3.3)\n",
      "Requirement already satisfied: certifi>=2017.4.17 in c:\\users\\falcons\\anaconda3\\lib\\site-packages (from requests<3,>=2.27->gTTS>=2.3.1->text-to-speech) (2021.10.8)\n",
      "Requirement already satisfied: charset-normalizer~=2.0.0 in c:\\users\\falcons\\anaconda3\\lib\\site-packages (from requests<3,>=2.27->gTTS>=2.3.1->text-to-speech) (2.0.4)\n",
      "Installing collected packages: gTTS, text-to-speech\n",
      "Successfully installed gTTS-2.4.0 text-to-speech-1.6.1\n",
      "\n"
     ]
    }
   ],
   "source": [
    "pip install text-to-speech"
   ]
  },
  {
   "cell_type": "code",
   "execution_count": 9,
   "id": "84a16b5f",
   "metadata": {
    "scrolled": true
   },
   "outputs": [
    {
     "name": "stdout",
     "output_type": "stream",
     "text": [
      "Enter anything to speak:Umm. This is 8:45PM. \n"
     ]
    }
   ],
   "source": [
    "from text_to_speech import save \n",
    "s = input(\"Enter anything to speak:\")\n",
    "save(s, \"en\", file=\"speak.mp3\")"
   ]
  },
  {
   "cell_type": "code",
   "execution_count": 10,
   "id": "53ad74fc",
   "metadata": {},
   "outputs": [
    {
     "name": "stdout",
     "output_type": "stream",
     "text": [
      "Collecting pyttsx3\n",
      "  Downloading pyttsx3-2.90-py3-none-any.whl (39 kB)\n",
      "Requirement already satisfied: pywin32 in c:\\users\\falcons\\anaconda3\\lib\\site-packages (from pyttsx3) (302)\n",
      "Requirement already satisfied: comtypes in c:\\users\\falcons\\anaconda3\\lib\\site-packages (from pyttsx3) (1.1.10)\n",
      "Collecting pypiwin32\n",
      "  Downloading pypiwin32-223-py3-none-any.whl (1.7 kB)\n",
      "Installing collected packages: pypiwin32, pyttsx3\n",
      "Successfully installed pypiwin32-223 pyttsx3-2.90\n",
      "Note: you may need to restart the kernel to use updated packages.\n"
     ]
    }
   ],
   "source": [
    "pip install pyttsx3"
   ]
  },
  {
   "cell_type": "code",
   "execution_count": 3,
   "id": "13ac5013",
   "metadata": {},
   "outputs": [
    {
     "name": "stdout",
     "output_type": "stream",
     "text": [
      "Enter anything to speak:What are you doing? bongi! hahaha\n"
     ]
    }
   ],
   "source": [
    "import pyttsx3\n",
    "s = input(\"Enter anything to speak:\")\n",
    "engine = pyttsx3.init()\n",
    "engine.say(s)\n",
    "engine.runAndWait()"
   ]
  },
  {
   "cell_type": "code",
   "execution_count": null,
   "id": "1f629075",
   "metadata": {},
   "outputs": [],
   "source": []
  }
 ],
 "metadata": {
  "kernelspec": {
   "display_name": "Python 3 (ipykernel)",
   "language": "python",
   "name": "python3"
  },
  "language_info": {
   "codemirror_mode": {
    "name": "ipython",
    "version": 3
   },
   "file_extension": ".py",
   "mimetype": "text/x-python",
   "name": "python",
   "nbconvert_exporter": "python",
   "pygments_lexer": "ipython3",
   "version": "3.9.12"
  }
 },
 "nbformat": 4,
 "nbformat_minor": 5
}
